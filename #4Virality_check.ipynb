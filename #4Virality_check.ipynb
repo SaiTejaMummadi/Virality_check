{
 "cells": [
  {
   "cell_type": "markdown",
   "metadata": {},
   "source": [
    "Final data is processed, Dummy variables are created, Data is split into training set and test set. Algorithms like SVM, Descision trees and Feed Neural networks are used."
   ]
  },
  {
   "cell_type": "code",
   "execution_count": 0,
   "metadata": {
    "colab": {},
    "colab_type": "code",
    "id": "A9FEohHEAwA9"
   },
   "outputs": [],
   "source": [
    "import pandas as pd\n",
    "import matplotlib.pyplot as plt\n",
    "import numpy as np\n",
    "%matplotlib inline\n",
    "import seaborn as sns\n",
    "from sklearn import preprocessing"
   ]
  },
  {
   "cell_type": "code",
   "execution_count": 0,
   "metadata": {
    "colab": {},
    "colab_type": "code",
    "id": "V7vLf24XBc4h"
   },
   "outputs": [],
   "source": [
    "df=pd.read_csv('tweet_viral.csv', index_col=False)\n",
    "df = df.iloc[:,1:]"
   ]
  },
  {
   "cell_type": "code",
   "execution_count": 0,
   "metadata": {
    "colab": {
     "base_uri": "https://localhost:8080/",
     "height": 195
    },
    "colab_type": "code",
    "id": "UZeEG5UBBwXD",
    "outputId": "2e169b95-f2c6-4cab-9df5-79415924c97e"
   },
   "outputs": [
    {
     "data": {
      "text/html": [
       "<div>\n",
       "<style scoped>\n",
       "    .dataframe tbody tr th:only-of-type {\n",
       "        vertical-align: middle;\n",
       "    }\n",
       "\n",
       "    .dataframe tbody tr th {\n",
       "        vertical-align: top;\n",
       "    }\n",
       "\n",
       "    .dataframe thead th {\n",
       "        text-align: right;\n",
       "    }\n",
       "</style>\n",
       "<table border=\"1\" class=\"dataframe\">\n",
       "  <thead>\n",
       "    <tr style=\"text-align: right;\">\n",
       "      <th></th>\n",
       "      <th>user_id</th>\n",
       "      <th>timestamp</th>\n",
       "      <th>text</th>\n",
       "      <th>has_media</th>\n",
       "      <th>likes</th>\n",
       "      <th>viral or not</th>\n",
       "      <th>replies</th>\n",
       "      <th>followers</th>\n",
       "      <th>total_likes</th>\n",
       "      <th>num_tweets</th>\n",
       "    </tr>\n",
       "  </thead>\n",
       "  <tbody>\n",
       "    <tr>\n",
       "      <th>0</th>\n",
       "      <td>2421885032</td>\n",
       "      <td>Evening</td>\n",
       "      <td>1.0</td>\n",
       "      <td>False</td>\n",
       "      <td>20</td>\n",
       "      <td>0</td>\n",
       "      <td>30</td>\n",
       "      <td>1800.0</td>\n",
       "      <td>416.0</td>\n",
       "      <td>1175.0</td>\n",
       "    </tr>\n",
       "    <tr>\n",
       "      <th>1</th>\n",
       "      <td>191881312</td>\n",
       "      <td>Evening</td>\n",
       "      <td>-1.0</td>\n",
       "      <td>False</td>\n",
       "      <td>38</td>\n",
       "      <td>0</td>\n",
       "      <td>1</td>\n",
       "      <td>39447.0</td>\n",
       "      <td>7416.0</td>\n",
       "      <td>26019.0</td>\n",
       "    </tr>\n",
       "    <tr>\n",
       "      <th>2</th>\n",
       "      <td>1125085620</td>\n",
       "      <td>Evening</td>\n",
       "      <td>1.0</td>\n",
       "      <td>True</td>\n",
       "      <td>631</td>\n",
       "      <td>0</td>\n",
       "      <td>111</td>\n",
       "      <td>34822.0</td>\n",
       "      <td>6037.0</td>\n",
       "      <td>2088.0</td>\n",
       "    </tr>\n",
       "    <tr>\n",
       "      <th>3</th>\n",
       "      <td>28515858</td>\n",
       "      <td>Evening</td>\n",
       "      <td>0.0</td>\n",
       "      <td>False</td>\n",
       "      <td>1674</td>\n",
       "      <td>0</td>\n",
       "      <td>16</td>\n",
       "      <td>2728479.0</td>\n",
       "      <td>3859.0</td>\n",
       "      <td>14913.0</td>\n",
       "    </tr>\n",
       "    <tr>\n",
       "      <th>4</th>\n",
       "      <td>28515858</td>\n",
       "      <td>Evening</td>\n",
       "      <td>1.0</td>\n",
       "      <td>False</td>\n",
       "      <td>583</td>\n",
       "      <td>0</td>\n",
       "      <td>14</td>\n",
       "      <td>2728479.0</td>\n",
       "      <td>3859.0</td>\n",
       "      <td>14913.0</td>\n",
       "    </tr>\n",
       "  </tbody>\n",
       "</table>\n",
       "</div>"
      ],
      "text/plain": [
       "      user_id timestamp  text  ...  followers  total_likes  num_tweets\n",
       "0  2421885032   Evening   1.0  ...     1800.0        416.0      1175.0\n",
       "1   191881312   Evening  -1.0  ...    39447.0       7416.0     26019.0\n",
       "2  1125085620   Evening   1.0  ...    34822.0       6037.0      2088.0\n",
       "3    28515858   Evening   0.0  ...  2728479.0       3859.0     14913.0\n",
       "4    28515858   Evening   1.0  ...  2728479.0       3859.0     14913.0\n",
       "\n",
       "[5 rows x 10 columns]"
      ]
     },
     "execution_count": 5,
     "metadata": {
      "tags": []
     },
     "output_type": "execute_result"
    }
   ],
   "source": [
    "df.head()"
   ]
  },
  {
   "cell_type": "code",
   "execution_count": 0,
   "metadata": {
    "colab": {
     "base_uri": "https://localhost:8080/",
     "height": 284
    },
    "colab_type": "code",
    "id": "q5CZs_VuFmXl",
    "outputId": "ce9e12b5-2c06-46e6-9f49-339625c25bc2"
   },
   "outputs": [
    {
     "data": {
      "text/html": [
       "<div>\n",
       "<style scoped>\n",
       "    .dataframe tbody tr th:only-of-type {\n",
       "        vertical-align: middle;\n",
       "    }\n",
       "\n",
       "    .dataframe tbody tr th {\n",
       "        vertical-align: top;\n",
       "    }\n",
       "\n",
       "    .dataframe thead th {\n",
       "        text-align: right;\n",
       "    }\n",
       "</style>\n",
       "<table border=\"1\" class=\"dataframe\">\n",
       "  <thead>\n",
       "    <tr style=\"text-align: right;\">\n",
       "      <th></th>\n",
       "      <th>user_id</th>\n",
       "      <th>text</th>\n",
       "      <th>likes</th>\n",
       "      <th>viral or not</th>\n",
       "      <th>replies</th>\n",
       "      <th>followers</th>\n",
       "      <th>total_likes</th>\n",
       "      <th>num_tweets</th>\n",
       "    </tr>\n",
       "  </thead>\n",
       "  <tbody>\n",
       "    <tr>\n",
       "      <th>count</th>\n",
       "      <td>1.056300e+04</td>\n",
       "      <td>10562.000000</td>\n",
       "      <td>10563.000000</td>\n",
       "      <td>10563.000000</td>\n",
       "      <td>10563.000000</td>\n",
       "      <td>7.678000e+03</td>\n",
       "      <td>7678.000000</td>\n",
       "      <td>7.678000e+03</td>\n",
       "    </tr>\n",
       "    <tr>\n",
       "      <th>mean</th>\n",
       "      <td>2.541155e+17</td>\n",
       "      <td>0.046203</td>\n",
       "      <td>386.085771</td>\n",
       "      <td>0.016189</td>\n",
       "      <td>23.034176</td>\n",
       "      <td>3.253121e+05</td>\n",
       "      <td>23671.871451</td>\n",
       "      <td>6.251025e+04</td>\n",
       "    </tr>\n",
       "    <tr>\n",
       "      <th>std</th>\n",
       "      <td>4.316954e+17</td>\n",
       "      <td>0.722667</td>\n",
       "      <td>2336.214455</td>\n",
       "      <td>0.126206</td>\n",
       "      <td>216.343910</td>\n",
       "      <td>1.455667e+06</td>\n",
       "      <td>40382.321132</td>\n",
       "      <td>1.062639e+05</td>\n",
       "    </tr>\n",
       "    <tr>\n",
       "      <th>min</th>\n",
       "      <td>4.970411e+06</td>\n",
       "      <td>-1.000000</td>\n",
       "      <td>3.000000</td>\n",
       "      <td>0.000000</td>\n",
       "      <td>0.000000</td>\n",
       "      <td>6.000000e+00</td>\n",
       "      <td>1.000000</td>\n",
       "      <td>1.200000e+01</td>\n",
       "    </tr>\n",
       "    <tr>\n",
       "      <th>25%</th>\n",
       "      <td>1.366967e+08</td>\n",
       "      <td>0.000000</td>\n",
       "      <td>47.000000</td>\n",
       "      <td>0.000000</td>\n",
       "      <td>2.000000</td>\n",
       "      <td>5.881500e+03</td>\n",
       "      <td>1934.000000</td>\n",
       "      <td>9.430500e+03</td>\n",
       "    </tr>\n",
       "    <tr>\n",
       "      <th>50%</th>\n",
       "      <td>1.058850e+09</td>\n",
       "      <td>0.000000</td>\n",
       "      <td>97.000000</td>\n",
       "      <td>0.000000</td>\n",
       "      <td>5.000000</td>\n",
       "      <td>2.382100e+04</td>\n",
       "      <td>8605.000000</td>\n",
       "      <td>2.838100e+04</td>\n",
       "    </tr>\n",
       "    <tr>\n",
       "      <th>75%</th>\n",
       "      <td>7.160961e+17</td>\n",
       "      <td>1.000000</td>\n",
       "      <td>237.500000</td>\n",
       "      <td>0.000000</td>\n",
       "      <td>14.000000</td>\n",
       "      <td>9.196200e+04</td>\n",
       "      <td>24853.000000</td>\n",
       "      <td>6.100700e+04</td>\n",
       "    </tr>\n",
       "    <tr>\n",
       "      <th>max</th>\n",
       "      <td>1.250911e+18</td>\n",
       "      <td>1.000000</td>\n",
       "      <td>151021.000000</td>\n",
       "      <td>1.000000</td>\n",
       "      <td>19546.000000</td>\n",
       "      <td>4.154240e+07</td>\n",
       "      <td>522563.000000</td>\n",
       "      <td>1.638318e+06</td>\n",
       "    </tr>\n",
       "  </tbody>\n",
       "</table>\n",
       "</div>"
      ],
      "text/plain": [
       "            user_id          text  ...    total_likes    num_tweets\n",
       "count  1.056300e+04  10562.000000  ...    7678.000000  7.678000e+03\n",
       "mean   2.541155e+17      0.046203  ...   23671.871451  6.251025e+04\n",
       "std    4.316954e+17      0.722667  ...   40382.321132  1.062639e+05\n",
       "min    4.970411e+06     -1.000000  ...       1.000000  1.200000e+01\n",
       "25%    1.366967e+08      0.000000  ...    1934.000000  9.430500e+03\n",
       "50%    1.058850e+09      0.000000  ...    8605.000000  2.838100e+04\n",
       "75%    7.160961e+17      1.000000  ...   24853.000000  6.100700e+04\n",
       "max    1.250911e+18      1.000000  ...  522563.000000  1.638318e+06\n",
       "\n",
       "[8 rows x 8 columns]"
      ]
     },
     "execution_count": 6,
     "metadata": {
      "tags": []
     },
     "output_type": "execute_result"
    }
   ],
   "source": [
    "df.describe()"
   ]
  },
  {
   "cell_type": "code",
   "execution_count": 0,
   "metadata": {
    "colab": {},
    "colab_type": "code",
    "id": "BXljquCLFsmp"
   },
   "outputs": [],
   "source": [
    "df.dropna(subset = [\"followers\"], inplace=True)"
   ]
  },
  {
   "cell_type": "code",
   "execution_count": 0,
   "metadata": {
    "colab": {},
    "colab_type": "code",
    "id": "mpunNHrYFyb8"
   },
   "outputs": [],
   "source": [
    "df.dropna(subset = [\"text\"], inplace=True)"
   ]
  },
  {
   "cell_type": "code",
   "execution_count": 0,
   "metadata": {
    "colab": {},
    "colab_type": "code",
    "id": "7c467q3WBxv2"
   },
   "outputs": [],
   "source": [
    "y=df.iloc[:,5:6]"
   ]
  },
  {
   "cell_type": "code",
   "execution_count": 0,
   "metadata": {
    "colab": {
     "base_uri": "https://localhost:8080/",
     "height": 402
    },
    "colab_type": "code",
    "id": "RhFCBmw7CbCb",
    "outputId": "37e4e47e-c768-43f4-9289-6079c5818dab"
   },
   "outputs": [
    {
     "data": {
      "text/html": [
       "<div>\n",
       "<style scoped>\n",
       "    .dataframe tbody tr th:only-of-type {\n",
       "        vertical-align: middle;\n",
       "    }\n",
       "\n",
       "    .dataframe tbody tr th {\n",
       "        vertical-align: top;\n",
       "    }\n",
       "\n",
       "    .dataframe thead th {\n",
       "        text-align: right;\n",
       "    }\n",
       "</style>\n",
       "<table border=\"1\" class=\"dataframe\">\n",
       "  <thead>\n",
       "    <tr style=\"text-align: right;\">\n",
       "      <th></th>\n",
       "      <th>user_id</th>\n",
       "      <th>timestamp</th>\n",
       "      <th>text</th>\n",
       "      <th>has_media</th>\n",
       "      <th>likes</th>\n",
       "      <th>viral or not</th>\n",
       "      <th>replies</th>\n",
       "      <th>followers</th>\n",
       "      <th>total_likes</th>\n",
       "      <th>num_tweets</th>\n",
       "    </tr>\n",
       "  </thead>\n",
       "  <tbody>\n",
       "    <tr>\n",
       "      <th>0</th>\n",
       "      <td>2421885032</td>\n",
       "      <td>Evening</td>\n",
       "      <td>1.0</td>\n",
       "      <td>False</td>\n",
       "      <td>20</td>\n",
       "      <td>0</td>\n",
       "      <td>30</td>\n",
       "      <td>1800.0</td>\n",
       "      <td>416.0</td>\n",
       "      <td>1175.0</td>\n",
       "    </tr>\n",
       "    <tr>\n",
       "      <th>1</th>\n",
       "      <td>191881312</td>\n",
       "      <td>Evening</td>\n",
       "      <td>-1.0</td>\n",
       "      <td>False</td>\n",
       "      <td>38</td>\n",
       "      <td>0</td>\n",
       "      <td>1</td>\n",
       "      <td>39447.0</td>\n",
       "      <td>7416.0</td>\n",
       "      <td>26019.0</td>\n",
       "    </tr>\n",
       "    <tr>\n",
       "      <th>2</th>\n",
       "      <td>1125085620</td>\n",
       "      <td>Evening</td>\n",
       "      <td>1.0</td>\n",
       "      <td>True</td>\n",
       "      <td>631</td>\n",
       "      <td>0</td>\n",
       "      <td>111</td>\n",
       "      <td>34822.0</td>\n",
       "      <td>6037.0</td>\n",
       "      <td>2088.0</td>\n",
       "    </tr>\n",
       "    <tr>\n",
       "      <th>3</th>\n",
       "      <td>28515858</td>\n",
       "      <td>Evening</td>\n",
       "      <td>0.0</td>\n",
       "      <td>False</td>\n",
       "      <td>1674</td>\n",
       "      <td>0</td>\n",
       "      <td>16</td>\n",
       "      <td>2728479.0</td>\n",
       "      <td>3859.0</td>\n",
       "      <td>14913.0</td>\n",
       "    </tr>\n",
       "    <tr>\n",
       "      <th>4</th>\n",
       "      <td>28515858</td>\n",
       "      <td>Evening</td>\n",
       "      <td>1.0</td>\n",
       "      <td>False</td>\n",
       "      <td>583</td>\n",
       "      <td>0</td>\n",
       "      <td>14</td>\n",
       "      <td>2728479.0</td>\n",
       "      <td>3859.0</td>\n",
       "      <td>14913.0</td>\n",
       "    </tr>\n",
       "    <tr>\n",
       "      <th>...</th>\n",
       "      <td>...</td>\n",
       "      <td>...</td>\n",
       "      <td>...</td>\n",
       "      <td>...</td>\n",
       "      <td>...</td>\n",
       "      <td>...</td>\n",
       "      <td>...</td>\n",
       "      <td>...</td>\n",
       "      <td>...</td>\n",
       "      <td>...</td>\n",
       "    </tr>\n",
       "    <tr>\n",
       "      <th>10558</th>\n",
       "      <td>54161723</td>\n",
       "      <td>Evening</td>\n",
       "      <td>-1.0</td>\n",
       "      <td>False</td>\n",
       "      <td>175</td>\n",
       "      <td>0</td>\n",
       "      <td>14</td>\n",
       "      <td>69510.0</td>\n",
       "      <td>6215.0</td>\n",
       "      <td>13917.0</td>\n",
       "    </tr>\n",
       "    <tr>\n",
       "      <th>10559</th>\n",
       "      <td>195449965</td>\n",
       "      <td>Evening</td>\n",
       "      <td>1.0</td>\n",
       "      <td>False</td>\n",
       "      <td>205</td>\n",
       "      <td>0</td>\n",
       "      <td>7</td>\n",
       "      <td>9728.0</td>\n",
       "      <td>3744.0</td>\n",
       "      <td>864.0</td>\n",
       "    </tr>\n",
       "    <tr>\n",
       "      <th>10560</th>\n",
       "      <td>61831375</td>\n",
       "      <td>Evening</td>\n",
       "      <td>0.0</td>\n",
       "      <td>True</td>\n",
       "      <td>47</td>\n",
       "      <td>0</td>\n",
       "      <td>5</td>\n",
       "      <td>589084.0</td>\n",
       "      <td>1019.0</td>\n",
       "      <td>143084.0</td>\n",
       "    </tr>\n",
       "    <tr>\n",
       "      <th>10561</th>\n",
       "      <td>131437479</td>\n",
       "      <td>Evening</td>\n",
       "      <td>0.0</td>\n",
       "      <td>False</td>\n",
       "      <td>115</td>\n",
       "      <td>0</td>\n",
       "      <td>2</td>\n",
       "      <td>536.0</td>\n",
       "      <td>9372.0</td>\n",
       "      <td>67271.0</td>\n",
       "    </tr>\n",
       "    <tr>\n",
       "      <th>10562</th>\n",
       "      <td>25081451</td>\n",
       "      <td>Evening</td>\n",
       "      <td>1.0</td>\n",
       "      <td>False</td>\n",
       "      <td>44</td>\n",
       "      <td>0</td>\n",
       "      <td>2</td>\n",
       "      <td>28039.0</td>\n",
       "      <td>655.0</td>\n",
       "      <td>153218.0</td>\n",
       "    </tr>\n",
       "  </tbody>\n",
       "</table>\n",
       "<p>7677 rows × 10 columns</p>\n",
       "</div>"
      ],
      "text/plain": [
       "          user_id timestamp  text  ...  followers  total_likes  num_tweets\n",
       "0      2421885032   Evening   1.0  ...     1800.0        416.0      1175.0\n",
       "1       191881312   Evening  -1.0  ...    39447.0       7416.0     26019.0\n",
       "2      1125085620   Evening   1.0  ...    34822.0       6037.0      2088.0\n",
       "3        28515858   Evening   0.0  ...  2728479.0       3859.0     14913.0\n",
       "4        28515858   Evening   1.0  ...  2728479.0       3859.0     14913.0\n",
       "...           ...       ...   ...  ...        ...          ...         ...\n",
       "10558    54161723   Evening  -1.0  ...    69510.0       6215.0     13917.0\n",
       "10559   195449965   Evening   1.0  ...     9728.0       3744.0       864.0\n",
       "10560    61831375   Evening   0.0  ...   589084.0       1019.0    143084.0\n",
       "10561   131437479   Evening   0.0  ...      536.0       9372.0     67271.0\n",
       "10562    25081451   Evening   1.0  ...    28039.0        655.0    153218.0\n",
       "\n",
       "[7677 rows x 10 columns]"
      ]
     },
     "execution_count": 10,
     "metadata": {
      "tags": []
     },
     "output_type": "execute_result"
    }
   ],
   "source": [
    "df"
   ]
  },
  {
   "cell_type": "code",
   "execution_count": 0,
   "metadata": {
    "colab": {},
    "colab_type": "code",
    "id": "EszF3tsfD7Nk"
   },
   "outputs": [],
   "source": [
    "X = df.drop(columns=['viral or not'])"
   ]
  },
  {
   "cell_type": "code",
   "execution_count": 0,
   "metadata": {
    "colab": {
     "base_uri": "https://localhost:8080/",
     "height": 67
    },
    "colab_type": "code",
    "id": "X3BYyfbSERqE",
    "outputId": "fbfdae58-b1ab-4f8d-e60b-bc8dccb482a9"
   },
   "outputs": [
    {
     "data": {
      "text/plain": [
       "0    7541\n",
       "1     136\n",
       "Name: viral or not, dtype: int64"
      ]
     },
     "execution_count": 13,
     "metadata": {
      "tags": []
     },
     "output_type": "execute_result"
    }
   ],
   "source": [
    "y['viral or not'].value_counts()"
   ]
  },
  {
   "cell_type": "code",
   "execution_count": 0,
   "metadata": {
    "colab": {
     "base_uri": "https://localhost:8080/",
     "height": 284
    },
    "colab_type": "code",
    "collapsed": true,
    "id": "5gMaV9fuEWkH",
    "outputId": "853074e6-cb85-47bb-ae3a-925636968f88"
   },
   "outputs": [
    {
     "data": {
      "text/html": [
       "<div>\n",
       "<style scoped>\n",
       "    .dataframe tbody tr th:only-of-type {\n",
       "        vertical-align: middle;\n",
       "    }\n",
       "\n",
       "    .dataframe tbody tr th {\n",
       "        vertical-align: top;\n",
       "    }\n",
       "\n",
       "    .dataframe thead th {\n",
       "        text-align: right;\n",
       "    }\n",
       "</style>\n",
       "<table border=\"1\" class=\"dataframe\">\n",
       "  <thead>\n",
       "    <tr style=\"text-align: right;\">\n",
       "      <th></th>\n",
       "      <th>user_id</th>\n",
       "      <th>text</th>\n",
       "      <th>likes</th>\n",
       "      <th>replies</th>\n",
       "      <th>followers</th>\n",
       "      <th>total_likes</th>\n",
       "      <th>num_tweets</th>\n",
       "    </tr>\n",
       "  </thead>\n",
       "  <tbody>\n",
       "    <tr>\n",
       "      <th>count</th>\n",
       "      <td>7.677000e+03</td>\n",
       "      <td>7677.000000</td>\n",
       "      <td>7677.000000</td>\n",
       "      <td>7677.000000</td>\n",
       "      <td>7.677000e+03</td>\n",
       "      <td>7677.000000</td>\n",
       "      <td>7.677000e+03</td>\n",
       "    </tr>\n",
       "    <tr>\n",
       "      <th>mean</th>\n",
       "      <td>1.018433e+09</td>\n",
       "      <td>0.044418</td>\n",
       "      <td>435.369285</td>\n",
       "      <td>25.189918</td>\n",
       "      <td>3.253505e+05</td>\n",
       "      <td>23672.655074</td>\n",
       "      <td>6.250961e+04</td>\n",
       "    </tr>\n",
       "    <tr>\n",
       "      <th>std</th>\n",
       "      <td>1.287377e+09</td>\n",
       "      <td>0.743029</td>\n",
       "      <td>2679.809890</td>\n",
       "      <td>251.125625</td>\n",
       "      <td>1.455758e+06</td>\n",
       "      <td>40384.893093</td>\n",
       "      <td>1.062708e+05</td>\n",
       "    </tr>\n",
       "    <tr>\n",
       "      <th>min</th>\n",
       "      <td>4.970411e+06</td>\n",
       "      <td>-1.000000</td>\n",
       "      <td>3.000000</td>\n",
       "      <td>0.000000</td>\n",
       "      <td>6.000000e+00</td>\n",
       "      <td>1.000000</td>\n",
       "      <td>1.200000e+01</td>\n",
       "    </tr>\n",
       "    <tr>\n",
       "      <th>25%</th>\n",
       "      <td>9.358978e+07</td>\n",
       "      <td>-1.000000</td>\n",
       "      <td>51.000000</td>\n",
       "      <td>2.000000</td>\n",
       "      <td>5.873000e+03</td>\n",
       "      <td>1932.000000</td>\n",
       "      <td>9.430000e+03</td>\n",
       "    </tr>\n",
       "    <tr>\n",
       "      <th>50%</th>\n",
       "      <td>3.288945e+08</td>\n",
       "      <td>0.000000</td>\n",
       "      <td>105.000000</td>\n",
       "      <td>5.000000</td>\n",
       "      <td>2.382100e+04</td>\n",
       "      <td>8605.000000</td>\n",
       "      <td>2.838100e+04</td>\n",
       "    </tr>\n",
       "    <tr>\n",
       "      <th>75%</th>\n",
       "      <td>1.727650e+09</td>\n",
       "      <td>1.000000</td>\n",
       "      <td>261.000000</td>\n",
       "      <td>14.000000</td>\n",
       "      <td>9.196200e+04</td>\n",
       "      <td>24853.000000</td>\n",
       "      <td>6.100700e+04</td>\n",
       "    </tr>\n",
       "    <tr>\n",
       "      <th>max</th>\n",
       "      <td>4.925724e+09</td>\n",
       "      <td>1.000000</td>\n",
       "      <td>151021.000000</td>\n",
       "      <td>19546.000000</td>\n",
       "      <td>4.154240e+07</td>\n",
       "      <td>522563.000000</td>\n",
       "      <td>1.638318e+06</td>\n",
       "    </tr>\n",
       "  </tbody>\n",
       "</table>\n",
       "</div>"
      ],
      "text/plain": [
       "            user_id         text  ...    total_likes    num_tweets\n",
       "count  7.677000e+03  7677.000000  ...    7677.000000  7.677000e+03\n",
       "mean   1.018433e+09     0.044418  ...   23672.655074  6.250961e+04\n",
       "std    1.287377e+09     0.743029  ...   40384.893093  1.062708e+05\n",
       "min    4.970411e+06    -1.000000  ...       1.000000  1.200000e+01\n",
       "25%    9.358978e+07    -1.000000  ...    1932.000000  9.430000e+03\n",
       "50%    3.288945e+08     0.000000  ...    8605.000000  2.838100e+04\n",
       "75%    1.727650e+09     1.000000  ...   24853.000000  6.100700e+04\n",
       "max    4.925724e+09     1.000000  ...  522563.000000  1.638318e+06\n",
       "\n",
       "[8 rows x 7 columns]"
      ]
     },
     "execution_count": 14,
     "metadata": {
      "tags": []
     },
     "output_type": "execute_result"
    }
   ],
   "source": [
    "X.describe()"
   ]
  },
  {
   "cell_type": "code",
   "execution_count": 0,
   "metadata": {
    "colab": {},
    "colab_type": "code",
    "id": "27AnwWffEu1R"
   },
   "outputs": [],
   "source": [
    "X=X.drop(columns='user_id')"
   ]
  },
  {
   "cell_type": "code",
   "execution_count": 0,
   "metadata": {
    "colab": {
     "base_uri": "https://localhost:8080/",
     "height": 402
    },
    "colab_type": "code",
    "id": "aAIfIWGyFXNv",
    "outputId": "abc6f21c-6e6e-4e15-cde0-7667877bbc9a"
   },
   "outputs": [
    {
     "data": {
      "text/html": [
       "<div>\n",
       "<style scoped>\n",
       "    .dataframe tbody tr th:only-of-type {\n",
       "        vertical-align: middle;\n",
       "    }\n",
       "\n",
       "    .dataframe tbody tr th {\n",
       "        vertical-align: top;\n",
       "    }\n",
       "\n",
       "    .dataframe thead th {\n",
       "        text-align: right;\n",
       "    }\n",
       "</style>\n",
       "<table border=\"1\" class=\"dataframe\">\n",
       "  <thead>\n",
       "    <tr style=\"text-align: right;\">\n",
       "      <th></th>\n",
       "      <th>timestamp</th>\n",
       "      <th>text</th>\n",
       "      <th>has_media</th>\n",
       "      <th>likes</th>\n",
       "      <th>replies</th>\n",
       "      <th>followers</th>\n",
       "      <th>total_likes</th>\n",
       "      <th>num_tweets</th>\n",
       "    </tr>\n",
       "  </thead>\n",
       "  <tbody>\n",
       "    <tr>\n",
       "      <th>0</th>\n",
       "      <td>Evening</td>\n",
       "      <td>1.0</td>\n",
       "      <td>False</td>\n",
       "      <td>20</td>\n",
       "      <td>30</td>\n",
       "      <td>1800.0</td>\n",
       "      <td>416.0</td>\n",
       "      <td>1175.0</td>\n",
       "    </tr>\n",
       "    <tr>\n",
       "      <th>1</th>\n",
       "      <td>Evening</td>\n",
       "      <td>-1.0</td>\n",
       "      <td>False</td>\n",
       "      <td>38</td>\n",
       "      <td>1</td>\n",
       "      <td>39447.0</td>\n",
       "      <td>7416.0</td>\n",
       "      <td>26019.0</td>\n",
       "    </tr>\n",
       "    <tr>\n",
       "      <th>2</th>\n",
       "      <td>Evening</td>\n",
       "      <td>1.0</td>\n",
       "      <td>True</td>\n",
       "      <td>631</td>\n",
       "      <td>111</td>\n",
       "      <td>34822.0</td>\n",
       "      <td>6037.0</td>\n",
       "      <td>2088.0</td>\n",
       "    </tr>\n",
       "    <tr>\n",
       "      <th>3</th>\n",
       "      <td>Evening</td>\n",
       "      <td>0.0</td>\n",
       "      <td>False</td>\n",
       "      <td>1674</td>\n",
       "      <td>16</td>\n",
       "      <td>2728479.0</td>\n",
       "      <td>3859.0</td>\n",
       "      <td>14913.0</td>\n",
       "    </tr>\n",
       "    <tr>\n",
       "      <th>4</th>\n",
       "      <td>Evening</td>\n",
       "      <td>1.0</td>\n",
       "      <td>False</td>\n",
       "      <td>583</td>\n",
       "      <td>14</td>\n",
       "      <td>2728479.0</td>\n",
       "      <td>3859.0</td>\n",
       "      <td>14913.0</td>\n",
       "    </tr>\n",
       "    <tr>\n",
       "      <th>...</th>\n",
       "      <td>...</td>\n",
       "      <td>...</td>\n",
       "      <td>...</td>\n",
       "      <td>...</td>\n",
       "      <td>...</td>\n",
       "      <td>...</td>\n",
       "      <td>...</td>\n",
       "      <td>...</td>\n",
       "    </tr>\n",
       "    <tr>\n",
       "      <th>10558</th>\n",
       "      <td>Evening</td>\n",
       "      <td>-1.0</td>\n",
       "      <td>False</td>\n",
       "      <td>175</td>\n",
       "      <td>14</td>\n",
       "      <td>69510.0</td>\n",
       "      <td>6215.0</td>\n",
       "      <td>13917.0</td>\n",
       "    </tr>\n",
       "    <tr>\n",
       "      <th>10559</th>\n",
       "      <td>Evening</td>\n",
       "      <td>1.0</td>\n",
       "      <td>False</td>\n",
       "      <td>205</td>\n",
       "      <td>7</td>\n",
       "      <td>9728.0</td>\n",
       "      <td>3744.0</td>\n",
       "      <td>864.0</td>\n",
       "    </tr>\n",
       "    <tr>\n",
       "      <th>10560</th>\n",
       "      <td>Evening</td>\n",
       "      <td>0.0</td>\n",
       "      <td>True</td>\n",
       "      <td>47</td>\n",
       "      <td>5</td>\n",
       "      <td>589084.0</td>\n",
       "      <td>1019.0</td>\n",
       "      <td>143084.0</td>\n",
       "    </tr>\n",
       "    <tr>\n",
       "      <th>10561</th>\n",
       "      <td>Evening</td>\n",
       "      <td>0.0</td>\n",
       "      <td>False</td>\n",
       "      <td>115</td>\n",
       "      <td>2</td>\n",
       "      <td>536.0</td>\n",
       "      <td>9372.0</td>\n",
       "      <td>67271.0</td>\n",
       "    </tr>\n",
       "    <tr>\n",
       "      <th>10562</th>\n",
       "      <td>Evening</td>\n",
       "      <td>1.0</td>\n",
       "      <td>False</td>\n",
       "      <td>44</td>\n",
       "      <td>2</td>\n",
       "      <td>28039.0</td>\n",
       "      <td>655.0</td>\n",
       "      <td>153218.0</td>\n",
       "    </tr>\n",
       "  </tbody>\n",
       "</table>\n",
       "<p>7677 rows × 8 columns</p>\n",
       "</div>"
      ],
      "text/plain": [
       "      timestamp  text  has_media  ...  followers  total_likes  num_tweets\n",
       "0       Evening   1.0      False  ...     1800.0        416.0      1175.0\n",
       "1       Evening  -1.0      False  ...    39447.0       7416.0     26019.0\n",
       "2       Evening   1.0       True  ...    34822.0       6037.0      2088.0\n",
       "3       Evening   0.0      False  ...  2728479.0       3859.0     14913.0\n",
       "4       Evening   1.0      False  ...  2728479.0       3859.0     14913.0\n",
       "...         ...   ...        ...  ...        ...          ...         ...\n",
       "10558   Evening  -1.0      False  ...    69510.0       6215.0     13917.0\n",
       "10559   Evening   1.0      False  ...     9728.0       3744.0       864.0\n",
       "10560   Evening   0.0       True  ...   589084.0       1019.0    143084.0\n",
       "10561   Evening   0.0      False  ...      536.0       9372.0     67271.0\n",
       "10562   Evening   1.0      False  ...    28039.0        655.0    153218.0\n",
       "\n",
       "[7677 rows x 8 columns]"
      ]
     },
     "execution_count": 16,
     "metadata": {
      "tags": []
     },
     "output_type": "execute_result"
    }
   ],
   "source": [
    "X"
   ]
  },
  {
   "cell_type": "markdown",
   "metadata": {},
   "source": [
    "Understanding different variables and visualizing them using boxplots"
   ]
  },
  {
   "cell_type": "code",
   "execution_count": 0,
   "metadata": {
    "colab": {
     "base_uri": "https://localhost:8080/",
     "height": 101
    },
    "colab_type": "code",
    "id": "Kii5L-y8FX0D",
    "outputId": "3c1a49ab-11e4-474d-9051-d3f94a0682a1"
   },
   "outputs": [
    {
     "data": {
      "text/plain": [
       "Evening    2738\n",
       "Morning    2304\n",
       "Noon       1358\n",
       "Night      1277\n",
       "Name: timestamp, dtype: int64"
      ]
     },
     "execution_count": 17,
     "metadata": {
      "tags": []
     },
     "output_type": "execute_result"
    }
   ],
   "source": [
    "X['timestamp'].value_counts()"
   ]
  },
  {
   "cell_type": "code",
   "execution_count": 0,
   "metadata": {
    "colab": {
     "base_uri": "https://localhost:8080/",
     "height": 67
    },
    "colab_type": "code",
    "id": "JuplVZXbFflA",
    "outputId": "99fbec26-e8bf-4541-ffff-8ed13360b388"
   },
   "outputs": [
    {
     "data": {
      "text/plain": [
       "False    4927\n",
       "True     2750\n",
       "Name: has_media, dtype: int64"
      ]
     },
     "execution_count": 18,
     "metadata": {
      "tags": []
     },
     "output_type": "execute_result"
    }
   ],
   "source": [
    "X['has_media'].value_counts()"
   ]
  },
  {
   "cell_type": "code",
   "execution_count": 0,
   "metadata": {
    "colab": {
     "base_uri": "https://localhost:8080/",
     "height": 84
    },
    "colab_type": "code",
    "id": "g2L_qgqoF_hs",
    "outputId": "683e03e9-087f-470b-d116-f1c319428d81"
   },
   "outputs": [
    {
     "data": {
      "text/plain": [
       " 0.0    3424\n",
       " 1.0    2297\n",
       "-1.0    1956\n",
       "Name: text, dtype: int64"
      ]
     },
     "execution_count": 19,
     "metadata": {
      "tags": []
     },
     "output_type": "execute_result"
    }
   ],
   "source": [
    "X['text'].value_counts()"
   ]
  },
  {
   "cell_type": "code",
   "execution_count": 0,
   "metadata": {
    "colab": {
     "base_uri": "https://localhost:8080/",
     "height": 168
    },
    "colab_type": "code",
    "id": "Gney-ZKCHCdF",
    "outputId": "5847bb83-5cfe-4362-b39a-9d076c32cbfd"
   },
   "outputs": [
    {
     "data": {
      "text/plain": [
       "count    7.677000e+03\n",
       "mean     3.253505e+05\n",
       "std      1.455758e+06\n",
       "min      6.000000e+00\n",
       "25%      5.873000e+03\n",
       "50%      2.382100e+04\n",
       "75%      9.196200e+04\n",
       "max      4.154240e+07\n",
       "Name: followers, dtype: float64"
      ]
     },
     "execution_count": 20,
     "metadata": {
      "tags": []
     },
     "output_type": "execute_result"
    }
   ],
   "source": [
    "X['followers'].describe()"
   ]
  },
  {
   "cell_type": "code",
   "execution_count": 0,
   "metadata": {
    "colab": {
     "base_uri": "https://localhost:8080/",
     "height": 218
    },
    "colab_type": "code",
    "id": "d4vj6AxlGD8-",
    "outputId": "cf810dc5-c6e1-431f-e624-8b31bf710bc0"
   },
   "outputs": [
    {
     "data": {
      "text/plain": [
       "0           1800.0\n",
       "1          39447.0\n",
       "2          34822.0\n",
       "3        2728479.0\n",
       "4        2728479.0\n",
       "           ...    \n",
       "10558      69510.0\n",
       "10559       9728.0\n",
       "10560     589084.0\n",
       "10561        536.0\n",
       "10562      28039.0\n",
       "Name: followers, Length: 7677, dtype: float64"
      ]
     },
     "execution_count": 21,
     "metadata": {
      "tags": []
     },
     "output_type": "execute_result"
    }
   ],
   "source": [
    "X['followers']"
   ]
  },
  {
   "cell_type": "code",
   "execution_count": 0,
   "metadata": {
    "colab": {
     "base_uri": "https://localhost:8080/",
     "height": 280
    },
    "colab_type": "code",
    "id": "SpowFWEDIee8",
    "outputId": "e7c1d8f9-e17b-4b69-b1e3-389a162d9e78"
   },
   "outputs": [
    {
     "data": {
      "text/plain": [
       "<matplotlib.axes._subplots.AxesSubplot at 0x7f763ca96630>"
      ]
     },
     "execution_count": 22,
     "metadata": {
      "tags": []
     },
     "output_type": "execute_result"
    },
    {
     "data": {
      "image/png": "[encoded data removed]",
      "text/plain": [
       "<Figure size 432x288 with 1 Axes>"
      ]
     },
     "metadata": {
      "needs_background": "light",
      "tags": []
     },
     "output_type": "display_data"
    }
   ],
   "source": [
    "sns.boxplot(y='followers', data=X)"
   ]
  },
  {
   "cell_type": "code",
   "execution_count": 0,
   "metadata": {
    "colab": {
     "base_uri": "https://localhost:8080/",
     "height": 269
    },
    "colab_type": "code",
    "id": "qWnzL3MrJx49",
    "outputId": "a88c50f5-1aa3-4b08-e2d2-820a78d9424c"
   },
   "outputs": [
    {
     "data": {
      "text/plain": [
       "<matplotlib.axes._subplots.AxesSubplot at 0x7f763c967278>"
      ]
     },
     "execution_count": 23,
     "metadata": {
      "tags": []
     },
     "output_type": "execute_result"
    },
    {
     "data": {
      "image/png": "[encoded data removed]",
      "text/plain": [
       "<Figure size 432x288 with 1 Axes>"
      ]
     },
     "metadata": {
      "needs_background": "light",
      "tags": []
     },
     "output_type": "display_data"
    }
   ],
   "source": [
    "sns.boxplot(y='likes', data=X)"
   ]
  },
  {
   "cell_type": "code",
   "execution_count": 0,
   "metadata": {
    "colab": {
     "base_uri": "https://localhost:8080/",
     "height": 280
    },
    "colab_type": "code",
    "id": "MVKbl7dTK8SV",
    "outputId": "c3bc2352-e252-4dd0-de43-d5946f9fa697"
   },
   "outputs": [
    {
     "data": {
      "text/plain": [
       "<matplotlib.axes._subplots.AxesSubplot at 0x7f763c505cc0>"
      ]
     },
     "execution_count": 24,
     "metadata": {
      "tags": []
     },
     "output_type": "execute_result"
    },
    {
     "data": {
      "image/png": "[encoded data removed]",
      "text/plain": [
       "<Figure size 432x288 with 1 Axes>"
      ]
     },
     "metadata": {
      "needs_background": "light",
      "tags": []
     },
     "output_type": "display_data"
    }
   ],
   "source": [
    "sns.boxplot(y='num_tweets', data=X)"
   ]
  },
  {
   "cell_type": "code",
   "execution_count": 0,
   "metadata": {
    "colab": {
     "base_uri": "https://localhost:8080/",
     "height": 269
    },
    "colab_type": "code",
    "id": "loYUoY4CLBW7",
    "outputId": "2f0d937a-9b3b-4cce-edfb-6d2f636fd32f"
   },
   "outputs": [
    {
     "data": {
      "text/plain": [
       "<matplotlib.axes._subplots.AxesSubplot at 0x7f763c474358>"
      ]
     },
     "execution_count": 25,
     "metadata": {
      "tags": []
     },
     "output_type": "execute_result"
    },
    {
     "data": {
      "image/png": "[encoded data removed]",
      "text/plain": [
       "<Figure size 432x288 with 1 Axes>"
      ]
     },
     "metadata": {
      "needs_background": "light",
      "tags": []
     },
     "output_type": "display_data"
    }
   ],
   "source": [
    "sns.boxplot(y='replies', data=X)"
   ]
  },
  {
   "cell_type": "code",
   "execution_count": 0,
   "metadata": {
    "colab": {
     "base_uri": "https://localhost:8080/",
     "height": 284
    },
    "colab_type": "code",
    "id": "nWqXss2nLN6m",
    "outputId": "f55af029-0ac9-416c-a3e8-3da377948403"
   },
   "outputs": [
    {
     "data": {
      "text/html": [
       "<div>\n",
       "<style scoped>\n",
       "    .dataframe tbody tr th:only-of-type {\n",
       "        vertical-align: middle;\n",
       "    }\n",
       "\n",
       "    .dataframe tbody tr th {\n",
       "        vertical-align: top;\n",
       "    }\n",
       "\n",
       "    .dataframe thead th {\n",
       "        text-align: right;\n",
       "    }\n",
       "</style>\n",
       "<table border=\"1\" class=\"dataframe\">\n",
       "  <thead>\n",
       "    <tr style=\"text-align: right;\">\n",
       "      <th></th>\n",
       "      <th>text</th>\n",
       "      <th>likes</th>\n",
       "      <th>replies</th>\n",
       "      <th>followers</th>\n",
       "      <th>total_likes</th>\n",
       "      <th>num_tweets</th>\n",
       "    </tr>\n",
       "  </thead>\n",
       "  <tbody>\n",
       "    <tr>\n",
       "      <th>count</th>\n",
       "      <td>7677.000000</td>\n",
       "      <td>7677.000000</td>\n",
       "      <td>7677.000000</td>\n",
       "      <td>7.677000e+03</td>\n",
       "      <td>7677.000000</td>\n",
       "      <td>7.677000e+03</td>\n",
       "    </tr>\n",
       "    <tr>\n",
       "      <th>mean</th>\n",
       "      <td>0.044418</td>\n",
       "      <td>435.369285</td>\n",
       "      <td>25.189918</td>\n",
       "      <td>3.253505e+05</td>\n",
       "      <td>23672.655074</td>\n",
       "      <td>6.250961e+04</td>\n",
       "    </tr>\n",
       "    <tr>\n",
       "      <th>std</th>\n",
       "      <td>0.743029</td>\n",
       "      <td>2679.809890</td>\n",
       "      <td>251.125625</td>\n",
       "      <td>1.455758e+06</td>\n",
       "      <td>40384.893093</td>\n",
       "      <td>1.062708e+05</td>\n",
       "    </tr>\n",
       "    <tr>\n",
       "      <th>min</th>\n",
       "      <td>-1.000000</td>\n",
       "      <td>3.000000</td>\n",
       "      <td>0.000000</td>\n",
       "      <td>6.000000e+00</td>\n",
       "      <td>1.000000</td>\n",
       "      <td>1.200000e+01</td>\n",
       "    </tr>\n",
       "    <tr>\n",
       "      <th>25%</th>\n",
       "      <td>-1.000000</td>\n",
       "      <td>51.000000</td>\n",
       "      <td>2.000000</td>\n",
       "      <td>5.873000e+03</td>\n",
       "      <td>1932.000000</td>\n",
       "      <td>9.430000e+03</td>\n",
       "    </tr>\n",
       "    <tr>\n",
       "      <th>50%</th>\n",
       "      <td>0.000000</td>\n",
       "      <td>105.000000</td>\n",
       "      <td>5.000000</td>\n",
       "      <td>2.382100e+04</td>\n",
       "      <td>8605.000000</td>\n",
       "      <td>2.838100e+04</td>\n",
       "    </tr>\n",
       "    <tr>\n",
       "      <th>75%</th>\n",
       "      <td>1.000000</td>\n",
       "      <td>261.000000</td>\n",
       "      <td>14.000000</td>\n",
       "      <td>9.196200e+04</td>\n",
       "      <td>24853.000000</td>\n",
       "      <td>6.100700e+04</td>\n",
       "    </tr>\n",
       "    <tr>\n",
       "      <th>max</th>\n",
       "      <td>1.000000</td>\n",
       "      <td>151021.000000</td>\n",
       "      <td>19546.000000</td>\n",
       "      <td>4.154240e+07</td>\n",
       "      <td>522563.000000</td>\n",
       "      <td>1.638318e+06</td>\n",
       "    </tr>\n",
       "  </tbody>\n",
       "</table>\n",
       "</div>"
      ],
      "text/plain": [
       "              text          likes  ...    total_likes    num_tweets\n",
       "count  7677.000000    7677.000000  ...    7677.000000  7.677000e+03\n",
       "mean      0.044418     435.369285  ...   23672.655074  6.250961e+04\n",
       "std       0.743029    2679.809890  ...   40384.893093  1.062708e+05\n",
       "min      -1.000000       3.000000  ...       1.000000  1.200000e+01\n",
       "25%      -1.000000      51.000000  ...    1932.000000  9.430000e+03\n",
       "50%       0.000000     105.000000  ...    8605.000000  2.838100e+04\n",
       "75%       1.000000     261.000000  ...   24853.000000  6.100700e+04\n",
       "max       1.000000  151021.000000  ...  522563.000000  1.638318e+06\n",
       "\n",
       "[8 rows x 6 columns]"
      ]
     },
     "execution_count": 26,
     "metadata": {
      "tags": []
     },
     "output_type": "execute_result"
    }
   ],
   "source": [
    "X.describe()"
   ]
  },
  {
   "cell_type": "code",
   "execution_count": 0,
   "metadata": {
    "colab": {
     "base_uri": "https://localhost:8080/",
     "height": 402
    },
    "colab_type": "code",
    "collapsed": true,
    "id": "C6YXDHOoAM_B",
    "outputId": "ad2896d0-e50a-4ab0-d94e-5134a0ddc212"
   },
   "outputs": [
    {
     "data": {
      "text/html": [
       "<div>\n",
       "<style scoped>\n",
       "    .dataframe tbody tr th:only-of-type {\n",
       "        vertical-align: middle;\n",
       "    }\n",
       "\n",
       "    .dataframe tbody tr th {\n",
       "        vertical-align: top;\n",
       "    }\n",
       "\n",
       "    .dataframe thead th {\n",
       "        text-align: right;\n",
       "    }\n",
       "</style>\n",
       "<table border=\"1\" class=\"dataframe\">\n",
       "  <thead>\n",
       "    <tr style=\"text-align: right;\">\n",
       "      <th></th>\n",
       "      <th>timestamp</th>\n",
       "      <th>text</th>\n",
       "      <th>has_media</th>\n",
       "      <th>likes</th>\n",
       "      <th>replies</th>\n",
       "      <th>followers</th>\n",
       "      <th>total_likes</th>\n",
       "      <th>num_tweets</th>\n",
       "    </tr>\n",
       "  </thead>\n",
       "  <tbody>\n",
       "    <tr>\n",
       "      <th>0</th>\n",
       "      <td>False</td>\n",
       "      <td>False</td>\n",
       "      <td>False</td>\n",
       "      <td>False</td>\n",
       "      <td>False</td>\n",
       "      <td>False</td>\n",
       "      <td>False</td>\n",
       "      <td>False</td>\n",
       "    </tr>\n",
       "    <tr>\n",
       "      <th>1</th>\n",
       "      <td>False</td>\n",
       "      <td>False</td>\n",
       "      <td>False</td>\n",
       "      <td>False</td>\n",
       "      <td>False</td>\n",
       "      <td>False</td>\n",
       "      <td>False</td>\n",
       "      <td>False</td>\n",
       "    </tr>\n",
       "    <tr>\n",
       "      <th>2</th>\n",
       "      <td>False</td>\n",
       "      <td>False</td>\n",
       "      <td>False</td>\n",
       "      <td>False</td>\n",
       "      <td>False</td>\n",
       "      <td>False</td>\n",
       "      <td>False</td>\n",
       "      <td>False</td>\n",
       "    </tr>\n",
       "    <tr>\n",
       "      <th>3</th>\n",
       "      <td>False</td>\n",
       "      <td>False</td>\n",
       "      <td>False</td>\n",
       "      <td>False</td>\n",
       "      <td>False</td>\n",
       "      <td>False</td>\n",
       "      <td>False</td>\n",
       "      <td>False</td>\n",
       "    </tr>\n",
       "    <tr>\n",
       "      <th>4</th>\n",
       "      <td>False</td>\n",
       "      <td>False</td>\n",
       "      <td>False</td>\n",
       "      <td>False</td>\n",
       "      <td>False</td>\n",
       "      <td>False</td>\n",
       "      <td>False</td>\n",
       "      <td>False</td>\n",
       "    </tr>\n",
       "    <tr>\n",
       "      <th>...</th>\n",
       "      <td>...</td>\n",
       "      <td>...</td>\n",
       "      <td>...</td>\n",
       "      <td>...</td>\n",
       "      <td>...</td>\n",
       "      <td>...</td>\n",
       "      <td>...</td>\n",
       "      <td>...</td>\n",
       "    </tr>\n",
       "    <tr>\n",
       "      <th>10558</th>\n",
       "      <td>False</td>\n",
       "      <td>False</td>\n",
       "      <td>False</td>\n",
       "      <td>False</td>\n",
       "      <td>False</td>\n",
       "      <td>False</td>\n",
       "      <td>False</td>\n",
       "      <td>False</td>\n",
       "    </tr>\n",
       "    <tr>\n",
       "      <th>10559</th>\n",
       "      <td>False</td>\n",
       "      <td>False</td>\n",
       "      <td>False</td>\n",
       "      <td>False</td>\n",
       "      <td>False</td>\n",
       "      <td>False</td>\n",
       "      <td>False</td>\n",
       "      <td>False</td>\n",
       "    </tr>\n",
       "    <tr>\n",
       "      <th>10560</th>\n",
       "      <td>False</td>\n",
       "      <td>False</td>\n",
       "      <td>False</td>\n",
       "      <td>False</td>\n",
       "      <td>False</td>\n",
       "      <td>False</td>\n",
       "      <td>False</td>\n",
       "      <td>False</td>\n",
       "    </tr>\n",
       "    <tr>\n",
       "      <th>10561</th>\n",
       "      <td>False</td>\n",
       "      <td>False</td>\n",
       "      <td>False</td>\n",
       "      <td>False</td>\n",
       "      <td>False</td>\n",
       "      <td>False</td>\n",
       "      <td>False</td>\n",
       "      <td>False</td>\n",
       "    </tr>\n",
       "    <tr>\n",
       "      <th>10562</th>\n",
       "      <td>False</td>\n",
       "      <td>False</td>\n",
       "      <td>False</td>\n",
       "      <td>False</td>\n",
       "      <td>False</td>\n",
       "      <td>False</td>\n",
       "      <td>False</td>\n",
       "      <td>False</td>\n",
       "    </tr>\n",
       "  </tbody>\n",
       "</table>\n",
       "<p>7677 rows × 8 columns</p>\n",
       "</div>"
      ],
      "text/plain": [
       "       timestamp   text  has_media  ...  followers  total_likes  num_tweets\n",
       "0          False  False      False  ...      False        False       False\n",
       "1          False  False      False  ...      False        False       False\n",
       "2          False  False      False  ...      False        False       False\n",
       "3          False  False      False  ...      False        False       False\n",
       "4          False  False      False  ...      False        False       False\n",
       "...          ...    ...        ...  ...        ...          ...         ...\n",
       "10558      False  False      False  ...      False        False       False\n",
       "10559      False  False      False  ...      False        False       False\n",
       "10560      False  False      False  ...      False        False       False\n",
       "10561      False  False      False  ...      False        False       False\n",
       "10562      False  False      False  ...      False        False       False\n",
       "\n",
       "[7677 rows x 8 columns]"
      ]
     },
     "execution_count": 27,
     "metadata": {
      "tags": []
     },
     "output_type": "execute_result"
    }
   ],
   "source": [
    "#Checking for NULL values\n",
    "X.isnull()"
   ]
  },
  {
   "cell_type": "code",
   "execution_count": 0,
   "metadata": {
    "colab": {
     "base_uri": "https://localhost:8080/",
     "height": 168
    },
    "colab_type": "code",
    "id": "Ym6dTg6SAlAa",
    "outputId": "6ca281db-71c0-4947-850f-57750ade4645"
   },
   "outputs": [
    {
     "data": {
      "text/plain": [
       "timestamp      0\n",
       "text           0\n",
       "has_media      0\n",
       "likes          0\n",
       "replies        0\n",
       "followers      0\n",
       "total_likes    0\n",
       "num_tweets     0\n",
       "dtype: int64"
      ]
     },
     "execution_count": 28,
     "metadata": {
      "tags": []
     },
     "output_type": "execute_result"
    }
   ],
   "source": [
    "X.isnull().sum()"
   ]
  },
  {
   "cell_type": "code",
   "execution_count": 0,
   "metadata": {
    "colab": {},
    "colab_type": "code",
    "id": "O7QLd-UlGOKe"
   },
   "outputs": [],
   "source": [
    "y=y.reset_index()"
   ]
  },
  {
   "cell_type": "code",
   "execution_count": 0,
   "metadata": {
    "colab": {
     "base_uri": "https://localhost:8080/",
     "height": 402
    },
    "colab_type": "code",
    "collapsed": true,
    "id": "0yRxyL8aV_Q7",
    "outputId": "f827ab13-1325-45da-fff6-b57ca1e4caa5"
   },
   "outputs": [
    {
     "data": {
      "text/html": [
       "<div>\n",
       "<style scoped>\n",
       "    .dataframe tbody tr th:only-of-type {\n",
       "        vertical-align: middle;\n",
       "    }\n",
       "\n",
       "    .dataframe tbody tr th {\n",
       "        vertical-align: top;\n",
       "    }\n",
       "\n",
       "    .dataframe thead th {\n",
       "        text-align: right;\n",
       "    }\n",
       "</style>\n",
       "<table border=\"1\" class=\"dataframe\">\n",
       "  <thead>\n",
       "    <tr style=\"text-align: right;\">\n",
       "      <th></th>\n",
       "      <th>viral or not</th>\n",
       "    </tr>\n",
       "  </thead>\n",
       "  <tbody>\n",
       "    <tr>\n",
       "      <th>0</th>\n",
       "      <td>0</td>\n",
       "    </tr>\n",
       "    <tr>\n",
       "      <th>1</th>\n",
       "      <td>0</td>\n",
       "    </tr>\n",
       "    <tr>\n",
       "      <th>2</th>\n",
       "      <td>0</td>\n",
       "    </tr>\n",
       "    <tr>\n",
       "      <th>3</th>\n",
       "      <td>0</td>\n",
       "    </tr>\n",
       "    <tr>\n",
       "      <th>4</th>\n",
       "      <td>0</td>\n",
       "    </tr>\n",
       "    <tr>\n",
       "      <th>...</th>\n",
       "      <td>...</td>\n",
       "    </tr>\n",
       "    <tr>\n",
       "      <th>7672</th>\n",
       "      <td>0</td>\n",
       "    </tr>\n",
       "    <tr>\n",
       "      <th>7673</th>\n",
       "      <td>0</td>\n",
       "    </tr>\n",
       "    <tr>\n",
       "      <th>7674</th>\n",
       "      <td>0</td>\n",
       "    </tr>\n",
       "    <tr>\n",
       "      <th>7675</th>\n",
       "      <td>0</td>\n",
       "    </tr>\n",
       "    <tr>\n",
       "      <th>7676</th>\n",
       "      <td>0</td>\n",
       "    </tr>\n",
       "  </tbody>\n",
       "</table>\n",
       "<p>7677 rows × 1 columns</p>\n",
       "</div>"
      ],
      "text/plain": [
       "      viral or not\n",
       "0                0\n",
       "1                0\n",
       "2                0\n",
       "3                0\n",
       "4                0\n",
       "...            ...\n",
       "7672             0\n",
       "7673             0\n",
       "7674             0\n",
       "7675             0\n",
       "7676             0\n",
       "\n",
       "[7677 rows x 1 columns]"
      ]
     },
     "execution_count": 30,
     "metadata": {
      "tags": []
     },
     "output_type": "execute_result"
    }
   ],
   "source": [
    "y.drop('index', axis=1)"
   ]
  },
  {
   "cell_type": "code",
   "execution_count": 0,
   "metadata": {
    "colab": {
     "base_uri": "https://localhost:8080/",
     "height": 67
    },
    "colab_type": "code",
    "id": "kaNZ8K5_WJRX",
    "outputId": "830ebab4-157c-48d2-dd90-f4ac5cc3ff94"
   },
   "outputs": [
    {
     "data": {
      "text/plain": [
       "0    7541\n",
       "1     136\n",
       "Name: viral or not, dtype: int64"
      ]
     },
     "execution_count": 31,
     "metadata": {
      "tags": []
     },
     "output_type": "execute_result"
    }
   ],
   "source": [
    "y['viral or not'].value_counts()"
   ]
  },
  {
   "cell_type": "code",
   "execution_count": 0,
   "metadata": {
    "colab": {},
    "colab_type": "code",
    "id": "5K3XvrbNGcgr"
   },
   "outputs": [],
   "source": [
    "#Creating the dummy variables\n",
    "X = pd.concat([X,pd.get_dummies(X['timestamp'], prefix='time')],axis=1)\n",
    "X.drop(['timestamp'],axis=1, inplace=True)"
   ]
  },
  {
   "cell_type": "code",
   "execution_count": 0,
   "metadata": {
    "colab": {},
    "colab_type": "code",
    "id": "KaKOZXDGJZzF"
   },
   "outputs": [],
   "source": [
    "X = pd.concat([X,pd.get_dummies(X['text'], prefix='text')],axis=1)\n",
    "X.drop(['text'],axis=1, inplace=True)"
   ]
  },
  {
   "cell_type": "code",
   "execution_count": 0,
   "metadata": {
    "colab": {},
    "colab_type": "code",
    "id": "2TqF-3bLJ2vo"
   },
   "outputs": [],
   "source": [
    "#Converting Media values into binary\n",
    "X.has_media = df.has_media.astype(int)"
   ]
  },
  {
   "cell_type": "code",
   "execution_count": 0,
   "metadata": {
    "colab": {
     "base_uri": "https://localhost:8080/",
     "height": 402
    },
    "colab_type": "code",
    "id": "z2xKqatsKOFD",
    "outputId": "a2970984-2a68-416f-908c-3673dbdc1941"
   },
   "outputs": [
    {
     "data": {
      "text/html": [
       "<div>\n",
       "<style scoped>\n",
       "    .dataframe tbody tr th:only-of-type {\n",
       "        vertical-align: middle;\n",
       "    }\n",
       "\n",
       "    .dataframe tbody tr th {\n",
       "        vertical-align: top;\n",
       "    }\n",
       "\n",
       "    .dataframe thead th {\n",
       "        text-align: right;\n",
       "    }\n",
       "</style>\n",
       "<table border=\"1\" class=\"dataframe\">\n",
       "  <thead>\n",
       "    <tr style=\"text-align: right;\">\n",
       "      <th></th>\n",
       "      <th>has_media</th>\n",
       "      <th>likes</th>\n",
       "      <th>replies</th>\n",
       "      <th>followers</th>\n",
       "      <th>total_likes</th>\n",
       "      <th>num_tweets</th>\n",
       "      <th>time_Evening</th>\n",
       "      <th>time_Morning</th>\n",
       "      <th>time_Night</th>\n",
       "      <th>time_Noon</th>\n",
       "      <th>text_-1.0</th>\n",
       "      <th>text_0.0</th>\n",
       "      <th>text_1.0</th>\n",
       "    </tr>\n",
       "  </thead>\n",
       "  <tbody>\n",
       "    <tr>\n",
       "      <th>0</th>\n",
       "      <td>0</td>\n",
       "      <td>20</td>\n",
       "      <td>30</td>\n",
       "      <td>1800.0</td>\n",
       "      <td>416.0</td>\n",
       "      <td>1175.0</td>\n",
       "      <td>1</td>\n",
       "      <td>0</td>\n",
       "      <td>0</td>\n",
       "      <td>0</td>\n",
       "      <td>0</td>\n",
       "      <td>0</td>\n",
       "      <td>1</td>\n",
       "    </tr>\n",
       "    <tr>\n",
       "      <th>1</th>\n",
       "      <td>0</td>\n",
       "      <td>38</td>\n",
       "      <td>1</td>\n",
       "      <td>39447.0</td>\n",
       "      <td>7416.0</td>\n",
       "      <td>26019.0</td>\n",
       "      <td>1</td>\n",
       "      <td>0</td>\n",
       "      <td>0</td>\n",
       "      <td>0</td>\n",
       "      <td>1</td>\n",
       "      <td>0</td>\n",
       "      <td>0</td>\n",
       "    </tr>\n",
       "    <tr>\n",
       "      <th>2</th>\n",
       "      <td>1</td>\n",
       "      <td>631</td>\n",
       "      <td>111</td>\n",
       "      <td>34822.0</td>\n",
       "      <td>6037.0</td>\n",
       "      <td>2088.0</td>\n",
       "      <td>1</td>\n",
       "      <td>0</td>\n",
       "      <td>0</td>\n",
       "      <td>0</td>\n",
       "      <td>0</td>\n",
       "      <td>0</td>\n",
       "      <td>1</td>\n",
       "    </tr>\n",
       "    <tr>\n",
       "      <th>3</th>\n",
       "      <td>0</td>\n",
       "      <td>1674</td>\n",
       "      <td>16</td>\n",
       "      <td>2728479.0</td>\n",
       "      <td>3859.0</td>\n",
       "      <td>14913.0</td>\n",
       "      <td>1</td>\n",
       "      <td>0</td>\n",
       "      <td>0</td>\n",
       "      <td>0</td>\n",
       "      <td>0</td>\n",
       "      <td>1</td>\n",
       "      <td>0</td>\n",
       "    </tr>\n",
       "    <tr>\n",
       "      <th>4</th>\n",
       "      <td>0</td>\n",
       "      <td>583</td>\n",
       "      <td>14</td>\n",
       "      <td>2728479.0</td>\n",
       "      <td>3859.0</td>\n",
       "      <td>14913.0</td>\n",
       "      <td>1</td>\n",
       "      <td>0</td>\n",
       "      <td>0</td>\n",
       "      <td>0</td>\n",
       "      <td>0</td>\n",
       "      <td>0</td>\n",
       "      <td>1</td>\n",
       "    </tr>\n",
       "    <tr>\n",
       "      <th>...</th>\n",
       "      <td>...</td>\n",
       "      <td>...</td>\n",
       "      <td>...</td>\n",
       "      <td>...</td>\n",
       "      <td>...</td>\n",
       "      <td>...</td>\n",
       "      <td>...</td>\n",
       "      <td>...</td>\n",
       "      <td>...</td>\n",
       "      <td>...</td>\n",
       "      <td>...</td>\n",
       "      <td>...</td>\n",
       "      <td>...</td>\n",
       "    </tr>\n",
       "    <tr>\n",
       "      <th>10558</th>\n",
       "      <td>0</td>\n",
       "      <td>175</td>\n",
       "      <td>14</td>\n",
       "      <td>69510.0</td>\n",
       "      <td>6215.0</td>\n",
       "      <td>13917.0</td>\n",
       "      <td>1</td>\n",
       "      <td>0</td>\n",
       "      <td>0</td>\n",
       "      <td>0</td>\n",
       "      <td>1</td>\n",
       "      <td>0</td>\n",
       "      <td>0</td>\n",
       "    </tr>\n",
       "    <tr>\n",
       "      <th>10559</th>\n",
       "      <td>0</td>\n",
       "      <td>205</td>\n",
       "      <td>7</td>\n",
       "      <td>9728.0</td>\n",
       "      <td>3744.0</td>\n",
       "      <td>864.0</td>\n",
       "      <td>1</td>\n",
       "      <td>0</td>\n",
       "      <td>0</td>\n",
       "      <td>0</td>\n",
       "      <td>0</td>\n",
       "      <td>0</td>\n",
       "      <td>1</td>\n",
       "    </tr>\n",
       "    <tr>\n",
       "      <th>10560</th>\n",
       "      <td>1</td>\n",
       "      <td>47</td>\n",
       "      <td>5</td>\n",
       "      <td>589084.0</td>\n",
       "      <td>1019.0</td>\n",
       "      <td>143084.0</td>\n",
       "      <td>1</td>\n",
       "      <td>0</td>\n",
       "      <td>0</td>\n",
       "      <td>0</td>\n",
       "      <td>0</td>\n",
       "      <td>1</td>\n",
       "      <td>0</td>\n",
       "    </tr>\n",
       "    <tr>\n",
       "      <th>10561</th>\n",
       "      <td>0</td>\n",
       "      <td>115</td>\n",
       "      <td>2</td>\n",
       "      <td>536.0</td>\n",
       "      <td>9372.0</td>\n",
       "      <td>67271.0</td>\n",
       "      <td>1</td>\n",
       "      <td>0</td>\n",
       "      <td>0</td>\n",
       "      <td>0</td>\n",
       "      <td>0</td>\n",
       "      <td>1</td>\n",
       "      <td>0</td>\n",
       "    </tr>\n",
       "    <tr>\n",
       "      <th>10562</th>\n",
       "      <td>0</td>\n",
       "      <td>44</td>\n",
       "      <td>2</td>\n",
       "      <td>28039.0</td>\n",
       "      <td>655.0</td>\n",
       "      <td>153218.0</td>\n",
       "      <td>1</td>\n",
       "      <td>0</td>\n",
       "      <td>0</td>\n",
       "      <td>0</td>\n",
       "      <td>0</td>\n",
       "      <td>0</td>\n",
       "      <td>1</td>\n",
       "    </tr>\n",
       "  </tbody>\n",
       "</table>\n",
       "<p>7677 rows × 13 columns</p>\n",
       "</div>"
      ],
      "text/plain": [
       "       has_media  likes  replies  ...  text_-1.0  text_0.0  text_1.0\n",
       "0              0     20       30  ...          0         0         1\n",
       "1              0     38        1  ...          1         0         0\n",
       "2              1    631      111  ...          0         0         1\n",
       "3              0   1674       16  ...          0         1         0\n",
       "4              0    583       14  ...          0         0         1\n",
       "...          ...    ...      ...  ...        ...       ...       ...\n",
       "10558          0    175       14  ...          1         0         0\n",
       "10559          0    205        7  ...          0         0         1\n",
       "10560          1     47        5  ...          0         1         0\n",
       "10561          0    115        2  ...          0         1         0\n",
       "10562          0     44        2  ...          0         0         1\n",
       "\n",
       "[7677 rows x 13 columns]"
      ]
     },
     "execution_count": 38,
     "metadata": {
      "tags": []
     },
     "output_type": "execute_result"
    }
   ],
   "source": [
    "X"
   ]
  },
  {
   "cell_type": "code",
   "execution_count": 0,
   "metadata": {
    "colab": {},
    "colab_type": "code",
    "id": "AKymd6hmODQB"
   },
   "outputs": [],
   "source": [
    "x = X[['likes']].values.astype(float)"
   ]
  },
  {
   "cell_type": "code",
   "execution_count": 0,
   "metadata": {
    "colab": {},
    "colab_type": "code",
    "id": "C4st4vYoOUcJ"
   },
   "outputs": [],
   "source": [
    "min_max_scaler = preprocessing.MinMaxScaler()"
   ]
  },
  {
   "cell_type": "code",
   "execution_count": 0,
   "metadata": {
    "colab": {},
    "colab_type": "code",
    "id": "tE8Q394gOVUo"
   },
   "outputs": [],
   "source": [
    "x_scaled = min_max_scaler.fit_transform(x)"
   ]
  },
  {
   "cell_type": "code",
   "execution_count": 0,
   "metadata": {
    "colab": {},
    "colab_type": "code",
    "id": "uu-JMbvjOddO"
   },
   "outputs": [],
   "source": [
    "x_normalized = pd.DataFrame(x_scaled)"
   ]
  },
  {
   "cell_type": "code",
   "execution_count": 0,
   "metadata": {
    "colab": {},
    "colab_type": "code",
    "id": "WXSz3NqeP6OC"
   },
   "outputs": [],
   "source": [
    "X=X.reset_index()"
   ]
  },
  {
   "cell_type": "code",
   "execution_count": 0,
   "metadata": {
    "colab": {},
    "colab_type": "code",
    "id": "S0wwKwTTRAm5"
   },
   "outputs": [],
   "source": [
    "X['likes']=x_normalized"
   ]
  },
  {
   "cell_type": "markdown",
   "metadata": {},
   "source": [
    "Normalizing the Independent variables using MinMaxScaler"
   ]
  },
  {
   "cell_type": "code",
   "execution_count": 0,
   "metadata": {
    "colab": {},
    "colab_type": "code",
    "id": "ZIhD1ZHNUE7a"
   },
   "outputs": [],
   "source": [
    "x = X[['replies']].values.astype(float) #returns a numpy array\n",
    "min_max_scaler = preprocessing.MinMaxScaler()\n",
    "x_scaled = min_max_scaler.fit_transform(x)\n",
    "X['replies'] = pd.DataFrame(x_scaled)"
   ]
  },
  {
   "cell_type": "code",
   "execution_count": 0,
   "metadata": {
    "colab": {},
    "colab_type": "code",
    "id": "CocQ4e7kUatp"
   },
   "outputs": [],
   "source": [
    "x = X[['followers']].values.astype(float) #returns a numpy array\n",
    "min_max_scaler = preprocessing.MinMaxScaler()\n",
    "x_scaled = min_max_scaler.fit_transform(x)\n",
    "X['followers'] = pd.DataFrame(x_scaled)\n",
    "\n",
    "x = X[['total_likes']].values.astype(float) #returns a numpy array\n",
    "min_max_scaler = preprocessing.MinMaxScaler()\n",
    "x_scaled = min_max_scaler.fit_transform(x)\n",
    "X['total_likes'] = pd.DataFrame(x_scaled)\n",
    "\n",
    "x = X[['num_tweets']].values.astype(float) #returns a numpy array\n",
    "min_max_scaler = preprocessing.MinMaxScaler()\n",
    "x_scaled = min_max_scaler.fit_transform(x)\n",
    "X['num_tweets'] = pd.DataFrame(x_scaled)"
   ]
  },
  {
   "cell_type": "code",
   "execution_count": 0,
   "metadata": {
    "colab": {},
    "colab_type": "code",
    "id": "oPQa-5uFVo-x"
   },
   "outputs": [],
   "source": [
    "X=X.drop('index', axis=1)"
   ]
  },
  {
   "cell_type": "code",
   "execution_count": 0,
   "metadata": {
    "colab": {},
    "colab_type": "code",
    "id": "WIeigkw-Vpzh"
   },
   "outputs": [],
   "source": [
    "X.rename(columns = {'text_-1.0':'Negative','text_0.0':'Neutral','text_1.0':'Positive' }, inplace = True)"
   ]
  },
  {
   "cell_type": "code",
   "execution_count": 0,
   "metadata": {
    "colab": {
     "base_uri": "https://localhost:8080/",
     "height": 402
    },
    "colab_type": "code",
    "id": "2nlAR7xpXMFI",
    "outputId": "dfbde736-458a-4959-dceb-62cbf1e7bbd2"
   },
   "outputs": [
    {
     "data": {
      "text/html": [
       "<div>\n",
       "<style scoped>\n",
       "    .dataframe tbody tr th:only-of-type {\n",
       "        vertical-align: middle;\n",
       "    }\n",
       "\n",
       "    .dataframe tbody tr th {\n",
       "        vertical-align: top;\n",
       "    }\n",
       "\n",
       "    .dataframe thead th {\n",
       "        text-align: right;\n",
       "    }\n",
       "</style>\n",
       "<table border=\"1\" class=\"dataframe\">\n",
       "  <thead>\n",
       "    <tr style=\"text-align: right;\">\n",
       "      <th></th>\n",
       "      <th>has_media</th>\n",
       "      <th>likes</th>\n",
       "      <th>replies</th>\n",
       "      <th>followers</th>\n",
       "      <th>total_likes</th>\n",
       "      <th>num_tweets</th>\n",
       "      <th>time_Evening</th>\n",
       "      <th>time_Morning</th>\n",
       "      <th>time_Night</th>\n",
       "      <th>time_Noon</th>\n",
       "      <th>Negative</th>\n",
       "      <th>Neutral</th>\n",
       "      <th>Positive</th>\n",
       "    </tr>\n",
       "  </thead>\n",
       "  <tbody>\n",
       "    <tr>\n",
       "      <th>0</th>\n",
       "      <td>0</td>\n",
       "      <td>0.000113</td>\n",
       "      <td>0.001535</td>\n",
       "      <td>0.000043</td>\n",
       "      <td>0.000794</td>\n",
       "      <td>0.000710</td>\n",
       "      <td>1</td>\n",
       "      <td>0</td>\n",
       "      <td>0</td>\n",
       "      <td>0</td>\n",
       "      <td>0</td>\n",
       "      <td>0</td>\n",
       "      <td>1</td>\n",
       "    </tr>\n",
       "    <tr>\n",
       "      <th>1</th>\n",
       "      <td>0</td>\n",
       "      <td>0.000232</td>\n",
       "      <td>0.000051</td>\n",
       "      <td>0.000949</td>\n",
       "      <td>0.014190</td>\n",
       "      <td>0.015874</td>\n",
       "      <td>1</td>\n",
       "      <td>0</td>\n",
       "      <td>0</td>\n",
       "      <td>0</td>\n",
       "      <td>1</td>\n",
       "      <td>0</td>\n",
       "      <td>0</td>\n",
       "    </tr>\n",
       "    <tr>\n",
       "      <th>2</th>\n",
       "      <td>1</td>\n",
       "      <td>0.004158</td>\n",
       "      <td>0.005679</td>\n",
       "      <td>0.000838</td>\n",
       "      <td>0.011551</td>\n",
       "      <td>0.001267</td>\n",
       "      <td>1</td>\n",
       "      <td>0</td>\n",
       "      <td>0</td>\n",
       "      <td>0</td>\n",
       "      <td>0</td>\n",
       "      <td>0</td>\n",
       "      <td>1</td>\n",
       "    </tr>\n",
       "    <tr>\n",
       "      <th>3</th>\n",
       "      <td>0</td>\n",
       "      <td>0.011065</td>\n",
       "      <td>0.000819</td>\n",
       "      <td>0.065679</td>\n",
       "      <td>0.007383</td>\n",
       "      <td>0.009095</td>\n",
       "      <td>1</td>\n",
       "      <td>0</td>\n",
       "      <td>0</td>\n",
       "      <td>0</td>\n",
       "      <td>0</td>\n",
       "      <td>1</td>\n",
       "      <td>0</td>\n",
       "    </tr>\n",
       "    <tr>\n",
       "      <th>4</th>\n",
       "      <td>0</td>\n",
       "      <td>0.003841</td>\n",
       "      <td>0.000716</td>\n",
       "      <td>0.065679</td>\n",
       "      <td>0.007383</td>\n",
       "      <td>0.009095</td>\n",
       "      <td>1</td>\n",
       "      <td>0</td>\n",
       "      <td>0</td>\n",
       "      <td>0</td>\n",
       "      <td>0</td>\n",
       "      <td>0</td>\n",
       "      <td>1</td>\n",
       "    </tr>\n",
       "    <tr>\n",
       "      <th>...</th>\n",
       "      <td>...</td>\n",
       "      <td>...</td>\n",
       "      <td>...</td>\n",
       "      <td>...</td>\n",
       "      <td>...</td>\n",
       "      <td>...</td>\n",
       "      <td>...</td>\n",
       "      <td>...</td>\n",
       "      <td>...</td>\n",
       "      <td>...</td>\n",
       "      <td>...</td>\n",
       "      <td>...</td>\n",
       "      <td>...</td>\n",
       "    </tr>\n",
       "    <tr>\n",
       "      <th>7672</th>\n",
       "      <td>0</td>\n",
       "      <td>0.001139</td>\n",
       "      <td>0.000716</td>\n",
       "      <td>0.001673</td>\n",
       "      <td>0.011891</td>\n",
       "      <td>0.008487</td>\n",
       "      <td>1</td>\n",
       "      <td>0</td>\n",
       "      <td>0</td>\n",
       "      <td>0</td>\n",
       "      <td>1</td>\n",
       "      <td>0</td>\n",
       "      <td>0</td>\n",
       "    </tr>\n",
       "    <tr>\n",
       "      <th>7673</th>\n",
       "      <td>0</td>\n",
       "      <td>0.001338</td>\n",
       "      <td>0.000358</td>\n",
       "      <td>0.000234</td>\n",
       "      <td>0.007163</td>\n",
       "      <td>0.000520</td>\n",
       "      <td>1</td>\n",
       "      <td>0</td>\n",
       "      <td>0</td>\n",
       "      <td>0</td>\n",
       "      <td>0</td>\n",
       "      <td>0</td>\n",
       "      <td>1</td>\n",
       "    </tr>\n",
       "    <tr>\n",
       "      <th>7674</th>\n",
       "      <td>1</td>\n",
       "      <td>0.000291</td>\n",
       "      <td>0.000256</td>\n",
       "      <td>0.014180</td>\n",
       "      <td>0.001948</td>\n",
       "      <td>0.087329</td>\n",
       "      <td>1</td>\n",
       "      <td>0</td>\n",
       "      <td>0</td>\n",
       "      <td>0</td>\n",
       "      <td>0</td>\n",
       "      <td>1</td>\n",
       "      <td>0</td>\n",
       "    </tr>\n",
       "    <tr>\n",
       "      <th>7675</th>\n",
       "      <td>0</td>\n",
       "      <td>0.000742</td>\n",
       "      <td>0.000102</td>\n",
       "      <td>0.000013</td>\n",
       "      <td>0.017933</td>\n",
       "      <td>0.041054</td>\n",
       "      <td>1</td>\n",
       "      <td>0</td>\n",
       "      <td>0</td>\n",
       "      <td>0</td>\n",
       "      <td>0</td>\n",
       "      <td>1</td>\n",
       "      <td>0</td>\n",
       "    </tr>\n",
       "    <tr>\n",
       "      <th>7676</th>\n",
       "      <td>0</td>\n",
       "      <td>0.000271</td>\n",
       "      <td>0.000102</td>\n",
       "      <td>0.000675</td>\n",
       "      <td>0.001252</td>\n",
       "      <td>0.093515</td>\n",
       "      <td>1</td>\n",
       "      <td>0</td>\n",
       "      <td>0</td>\n",
       "      <td>0</td>\n",
       "      <td>0</td>\n",
       "      <td>0</td>\n",
       "      <td>1</td>\n",
       "    </tr>\n",
       "  </tbody>\n",
       "</table>\n",
       "<p>7677 rows × 13 columns</p>\n",
       "</div>"
      ],
      "text/plain": [
       "      has_media     likes   replies  ...  Negative  Neutral  Positive\n",
       "0             0  0.000113  0.001535  ...         0        0         1\n",
       "1             0  0.000232  0.000051  ...         1        0         0\n",
       "2             1  0.004158  0.005679  ...         0        0         1\n",
       "3             0  0.011065  0.000819  ...         0        1         0\n",
       "4             0  0.003841  0.000716  ...         0        0         1\n",
       "...         ...       ...       ...  ...       ...      ...       ...\n",
       "7672          0  0.001139  0.000716  ...         1        0         0\n",
       "7673          0  0.001338  0.000358  ...         0        0         1\n",
       "7674          1  0.000291  0.000256  ...         0        1         0\n",
       "7675          0  0.000742  0.000102  ...         0        1         0\n",
       "7676          0  0.000271  0.000102  ...         0        0         1\n",
       "\n",
       "[7677 rows x 13 columns]"
      ]
     },
     "execution_count": 52,
     "metadata": {
      "tags": []
     },
     "output_type": "execute_result"
    }
   ],
   "source": [
    "X"
   ]
  },
  {
   "cell_type": "code",
   "execution_count": 0,
   "metadata": {
    "colab": {},
    "colab_type": "code",
    "id": "wC4l34SVXNvG"
   },
   "outputs": [],
   "source": [
    "from sklearn.model_selection import train_test_split\n",
    "from sklearn.metrics import accuracy_score, mean_squared_error, log_loss\n",
    "import torch\n",
    "import torch.nn as nn\n",
    "from torch import optim\n",
    "import torch.nn.functional as F"
   ]
  },
  {
   "cell_type": "code",
   "execution_count": 0,
   "metadata": {
    "colab": {},
    "colab_type": "code",
    "id": "LyA4ZYRyhnuA"
   },
   "outputs": [],
   "source": [
    "y=y.drop(columns='index')"
   ]
  },
  {
   "cell_type": "code",
   "execution_count": 0,
   "metadata": {
    "colab": {},
    "colab_type": "code",
    "id": "8HUvVi7XhTp2"
   },
   "outputs": [],
   "source": [
    "#Splitting the dataset into training set and test set.\n",
    "X_train, X_val, Y_train, Y_val = train_test_split(X, y, stratify=y, random_state=0)\n"
   ]
  },
  {
   "cell_type": "code",
   "execution_count": 0,
   "metadata": {
    "colab": {
     "base_uri": "https://localhost:8080/",
     "height": 402
    },
    "colab_type": "code",
    "id": "_yF8CwVGrBZl",
    "outputId": "9cb202d7-7333-4968-e91c-70694a089fba"
   },
   "outputs": [
    {
     "data": {
      "text/html": [
       "<div>\n",
       "<style scoped>\n",
       "    .dataframe tbody tr th:only-of-type {\n",
       "        vertical-align: middle;\n",
       "    }\n",
       "\n",
       "    .dataframe tbody tr th {\n",
       "        vertical-align: top;\n",
       "    }\n",
       "\n",
       "    .dataframe thead th {\n",
       "        text-align: right;\n",
       "    }\n",
       "</style>\n",
       "<table border=\"1\" class=\"dataframe\">\n",
       "  <thead>\n",
       "    <tr style=\"text-align: right;\">\n",
       "      <th></th>\n",
       "      <th>has_media</th>\n",
       "      <th>likes</th>\n",
       "      <th>replies</th>\n",
       "      <th>followers</th>\n",
       "      <th>total_likes</th>\n",
       "      <th>num_tweets</th>\n",
       "      <th>time_Evening</th>\n",
       "      <th>time_Morning</th>\n",
       "      <th>time_Night</th>\n",
       "      <th>time_Noon</th>\n",
       "      <th>Negative</th>\n",
       "      <th>Neutral</th>\n",
       "      <th>Positive</th>\n",
       "    </tr>\n",
       "  </thead>\n",
       "  <tbody>\n",
       "    <tr>\n",
       "      <th>3230</th>\n",
       "      <td>1</td>\n",
       "      <td>0.001384</td>\n",
       "      <td>0.000921</td>\n",
       "      <td>3.403752e-04</td>\n",
       "      <td>0.006242</td>\n",
       "      <td>0.002083</td>\n",
       "      <td>0</td>\n",
       "      <td>0</td>\n",
       "      <td>0</td>\n",
       "      <td>1</td>\n",
       "      <td>0</td>\n",
       "      <td>0</td>\n",
       "      <td>1</td>\n",
       "    </tr>\n",
       "    <tr>\n",
       "      <th>671</th>\n",
       "      <td>1</td>\n",
       "      <td>0.000947</td>\n",
       "      <td>0.000409</td>\n",
       "      <td>1.029551e-04</td>\n",
       "      <td>0.000038</td>\n",
       "      <td>0.000222</td>\n",
       "      <td>0</td>\n",
       "      <td>0</td>\n",
       "      <td>0</td>\n",
       "      <td>1</td>\n",
       "      <td>0</td>\n",
       "      <td>1</td>\n",
       "      <td>0</td>\n",
       "    </tr>\n",
       "    <tr>\n",
       "      <th>81</th>\n",
       "      <td>0</td>\n",
       "      <td>0.001920</td>\n",
       "      <td>0.000307</td>\n",
       "      <td>2.472173e-05</td>\n",
       "      <td>0.040233</td>\n",
       "      <td>0.028844</td>\n",
       "      <td>0</td>\n",
       "      <td>1</td>\n",
       "      <td>0</td>\n",
       "      <td>0</td>\n",
       "      <td>0</td>\n",
       "      <td>0</td>\n",
       "      <td>1</td>\n",
       "    </tr>\n",
       "    <tr>\n",
       "      <th>2672</th>\n",
       "      <td>0</td>\n",
       "      <td>0.004933</td>\n",
       "      <td>0.003019</td>\n",
       "      <td>1.079666e-02</td>\n",
       "      <td>0.019766</td>\n",
       "      <td>0.012469</td>\n",
       "      <td>0</td>\n",
       "      <td>0</td>\n",
       "      <td>0</td>\n",
       "      <td>1</td>\n",
       "      <td>0</td>\n",
       "      <td>0</td>\n",
       "      <td>1</td>\n",
       "    </tr>\n",
       "    <tr>\n",
       "      <th>3947</th>\n",
       "      <td>1</td>\n",
       "      <td>0.000781</td>\n",
       "      <td>0.000051</td>\n",
       "      <td>4.092205e-07</td>\n",
       "      <td>0.002256</td>\n",
       "      <td>0.000201</td>\n",
       "      <td>0</td>\n",
       "      <td>0</td>\n",
       "      <td>0</td>\n",
       "      <td>1</td>\n",
       "      <td>0</td>\n",
       "      <td>0</td>\n",
       "      <td>1</td>\n",
       "    </tr>\n",
       "    <tr>\n",
       "      <th>...</th>\n",
       "      <td>...</td>\n",
       "      <td>...</td>\n",
       "      <td>...</td>\n",
       "      <td>...</td>\n",
       "      <td>...</td>\n",
       "      <td>...</td>\n",
       "      <td>...</td>\n",
       "      <td>...</td>\n",
       "      <td>...</td>\n",
       "      <td>...</td>\n",
       "      <td>...</td>\n",
       "      <td>...</td>\n",
       "      <td>...</td>\n",
       "    </tr>\n",
       "    <tr>\n",
       "      <th>3261</th>\n",
       "      <td>0</td>\n",
       "      <td>0.000417</td>\n",
       "      <td>0.000409</td>\n",
       "      <td>5.252345e-03</td>\n",
       "      <td>0.000943</td>\n",
       "      <td>0.188120</td>\n",
       "      <td>0</td>\n",
       "      <td>0</td>\n",
       "      <td>1</td>\n",
       "      <td>0</td>\n",
       "      <td>0</td>\n",
       "      <td>1</td>\n",
       "      <td>0</td>\n",
       "    </tr>\n",
       "    <tr>\n",
       "      <th>1810</th>\n",
       "      <td>0</td>\n",
       "      <td>0.000576</td>\n",
       "      <td>0.000000</td>\n",
       "      <td>2.213546e-03</td>\n",
       "      <td>0.045237</td>\n",
       "      <td>0.017558</td>\n",
       "      <td>0</td>\n",
       "      <td>1</td>\n",
       "      <td>0</td>\n",
       "      <td>0</td>\n",
       "      <td>0</td>\n",
       "      <td>0</td>\n",
       "      <td>1</td>\n",
       "    </tr>\n",
       "    <tr>\n",
       "      <th>2220</th>\n",
       "      <td>0</td>\n",
       "      <td>0.004476</td>\n",
       "      <td>0.002609</td>\n",
       "      <td>3.167463e-03</td>\n",
       "      <td>0.000067</td>\n",
       "      <td>0.001364</td>\n",
       "      <td>0</td>\n",
       "      <td>1</td>\n",
       "      <td>0</td>\n",
       "      <td>0</td>\n",
       "      <td>0</td>\n",
       "      <td>1</td>\n",
       "      <td>0</td>\n",
       "    </tr>\n",
       "    <tr>\n",
       "      <th>4377</th>\n",
       "      <td>0</td>\n",
       "      <td>0.000199</td>\n",
       "      <td>0.000102</td>\n",
       "      <td>2.840833e-03</td>\n",
       "      <td>0.000748</td>\n",
       "      <td>0.038832</td>\n",
       "      <td>0</td>\n",
       "      <td>0</td>\n",
       "      <td>0</td>\n",
       "      <td>1</td>\n",
       "      <td>0</td>\n",
       "      <td>1</td>\n",
       "      <td>0</td>\n",
       "    </tr>\n",
       "    <tr>\n",
       "      <th>5201</th>\n",
       "      <td>1</td>\n",
       "      <td>0.005059</td>\n",
       "      <td>0.001637</td>\n",
       "      <td>9.053161e-03</td>\n",
       "      <td>0.070030</td>\n",
       "      <td>0.015109</td>\n",
       "      <td>0</td>\n",
       "      <td>1</td>\n",
       "      <td>0</td>\n",
       "      <td>0</td>\n",
       "      <td>0</td>\n",
       "      <td>1</td>\n",
       "      <td>0</td>\n",
       "    </tr>\n",
       "  </tbody>\n",
       "</table>\n",
       "<p>5757 rows × 13 columns</p>\n",
       "</div>"
      ],
      "text/plain": [
       "      has_media     likes   replies  ...  Negative  Neutral  Positive\n",
       "3230          1  0.001384  0.000921  ...         0        0         1\n",
       "671           1  0.000947  0.000409  ...         0        1         0\n",
       "81            0  0.001920  0.000307  ...         0        0         1\n",
       "2672          0  0.004933  0.003019  ...         0        0         1\n",
       "3947          1  0.000781  0.000051  ...         0        0         1\n",
       "...         ...       ...       ...  ...       ...      ...       ...\n",
       "3261          0  0.000417  0.000409  ...         0        1         0\n",
       "1810          0  0.000576  0.000000  ...         0        0         1\n",
       "2220          0  0.004476  0.002609  ...         0        1         0\n",
       "4377          0  0.000199  0.000102  ...         0        1         0\n",
       "5201          1  0.005059  0.001637  ...         0        1         0\n",
       "\n",
       "[5757 rows x 13 columns]"
      ]
     },
     "execution_count": 71,
     "metadata": {
      "tags": []
     },
     "output_type": "execute_result"
    }
   ],
   "source": [
    "X_train"
   ]
  },
  {
   "cell_type": "code",
   "execution_count": 0,
   "metadata": {
    "colab": {
     "base_uri": "https://localhost:8080/",
     "height": 402
    },
    "colab_type": "code",
    "id": "Ce6oFBzWV-53",
    "outputId": "f1981ee8-fcb5-4a3c-c63d-d1aa7d743da9"
   },
   "outputs": [
    {
     "data": {
      "text/html": [
       "<div>\n",
       "<style scoped>\n",
       "    .dataframe tbody tr th:only-of-type {\n",
       "        vertical-align: middle;\n",
       "    }\n",
       "\n",
       "    .dataframe tbody tr th {\n",
       "        vertical-align: top;\n",
       "    }\n",
       "\n",
       "    .dataframe thead th {\n",
       "        text-align: right;\n",
       "    }\n",
       "</style>\n",
       "<table border=\"1\" class=\"dataframe\">\n",
       "  <thead>\n",
       "    <tr style=\"text-align: right;\">\n",
       "      <th></th>\n",
       "      <th>viral or not</th>\n",
       "    </tr>\n",
       "  </thead>\n",
       "  <tbody>\n",
       "    <tr>\n",
       "      <th>3230</th>\n",
       "      <td>0</td>\n",
       "    </tr>\n",
       "    <tr>\n",
       "      <th>671</th>\n",
       "      <td>0</td>\n",
       "    </tr>\n",
       "    <tr>\n",
       "      <th>81</th>\n",
       "      <td>0</td>\n",
       "    </tr>\n",
       "    <tr>\n",
       "      <th>2672</th>\n",
       "      <td>0</td>\n",
       "    </tr>\n",
       "    <tr>\n",
       "      <th>3947</th>\n",
       "      <td>0</td>\n",
       "    </tr>\n",
       "    <tr>\n",
       "      <th>...</th>\n",
       "      <td>...</td>\n",
       "    </tr>\n",
       "    <tr>\n",
       "      <th>3261</th>\n",
       "      <td>0</td>\n",
       "    </tr>\n",
       "    <tr>\n",
       "      <th>1810</th>\n",
       "      <td>0</td>\n",
       "    </tr>\n",
       "    <tr>\n",
       "      <th>2220</th>\n",
       "      <td>0</td>\n",
       "    </tr>\n",
       "    <tr>\n",
       "      <th>4377</th>\n",
       "      <td>0</td>\n",
       "    </tr>\n",
       "    <tr>\n",
       "      <th>5201</th>\n",
       "      <td>0</td>\n",
       "    </tr>\n",
       "  </tbody>\n",
       "</table>\n",
       "<p>5757 rows × 1 columns</p>\n",
       "</div>"
      ],
      "text/plain": [
       "      viral or not\n",
       "3230             0\n",
       "671              0\n",
       "81               0\n",
       "2672             0\n",
       "3947             0\n",
       "...            ...\n",
       "3261             0\n",
       "1810             0\n",
       "2220             0\n",
       "4377             0\n",
       "5201             0\n",
       "\n",
       "[5757 rows x 1 columns]"
      ]
     },
     "execution_count": 57,
     "metadata": {
      "tags": []
     },
     "output_type": "execute_result"
    }
   ],
   "source": [
    "Y_train"
   ]
  },
  {
   "cell_type": "code",
   "execution_count": 0,
   "metadata": {
    "colab": {},
    "colab_type": "code",
    "id": "q2msaaXykDLf"
   },
   "outputs": [],
   "source": [
    "X_train, Y_train, X_val, Y_val = map(torch.tensor, (X_train.values, Y_train.values, X_val.values, Y_val.values))"
   ]
  },
  {
   "cell_type": "code",
   "execution_count": 0,
   "metadata": {
    "colab": {},
    "colab_type": "code",
    "id": "GLa0eywcopPE"
   },
   "outputs": [],
   "source": [
    "input = torch.randn (3, 4)"
   ]
  },
  {
   "cell_type": "code",
   "execution_count": 0,
   "metadata": {
    "colab": {
     "base_uri": "https://localhost:8080/",
     "height": 34
    },
    "colab_type": "code",
    "id": "IkyvaAQladDm",
    "outputId": "ba053d4e-fcbc-4009-af28-fcbb4961e215"
   },
   "outputs": [
    {
     "data": {
      "text/plain": [
       "2"
      ]
     },
     "execution_count": 69,
     "metadata": {
      "tags": []
     },
     "output_type": "execute_result"
    }
   ],
   "source": [
    "input.dim()"
   ]
  },
  {
   "cell_type": "code",
   "execution_count": 0,
   "metadata": {
    "colab": {},
    "colab_type": "code",
    "id": "6F9GacDWdVlW"
   },
   "outputs": [],
   "source": [
    "class FirstNetwork_v2(nn.Module):\n",
    "  \n",
    "  def __init__(self):\n",
    "    super().__init__()\n",
    "    torch.manual_seed(0)\n",
    "    self.net = nn.Sequential(\n",
    "        nn.Linear(13, 15), \n",
    "        nn.ReLU(),\n",
    "        nn.Linear(15, 15), \n",
    "        nn.ReLU(),\n",
    "        nn.Linear(15, 13), \n",
    "        nn.ReLU(),\n",
    "        nn.Linear(13, 2), \n",
    "        nn.Softmax()\n",
    "    )\n",
    "\n",
    "  def forward(self, X):\n",
    "    return self.net(X)"
   ]
  },
  {
   "cell_type": "code",
   "execution_count": 0,
   "metadata": {
    "colab": {},
    "colab_type": "code",
    "id": "0yNprY4beKRO"
   },
   "outputs": [],
   "source": [
    "def fit_v2(x, y, model, opt, loss_fn, epochs = 100):\n",
    "  acc_arr = []\n",
    "  for epoch in range(epochs):\n",
    "    \n",
    "    y_hat=model(x)\n",
    "    \n",
    "    loss = loss_fn(y_hat, y)\n",
    "    acc_arr.append(accuracy(y_hat, Y_train))\n",
    "\n",
    "    loss.backward()\n",
    "    opt.step()\n",
    "    opt.zero_grad()\n",
    "  plt.plot(acc_arr, 'b-')\n",
    "  plt.show()\n",
    "  return loss.item()"
   ]
  },
  {
   "cell_type": "code",
   "execution_count": 0,
   "metadata": {
    "colab": {},
    "colab_type": "code",
    "id": "6tUuAt-PeR4Q"
   },
   "outputs": [],
   "source": [
    "fn = FirstNetwork_v2()\n",
    "loss_fn = F.cross_entropy\n",
    "opt = optim.Adam(fn.parameters(), lr=1)\n",
    "fit_v2(X_train.float, Y_train.float, fn, opt, loss_fn)"
   ]
  },
  {
   "cell_type": "code",
   "execution_count": 0,
   "metadata": {
    "colab": {
     "base_uri": "https://localhost:8080/",
     "height": 34
    },
    "colab_type": "code",
    "id": "yYF7TkY_oncA",
    "outputId": "2e3cd432-00b3-43bb-9c41-a613b7fea3a0"
   },
   "outputs": [
    {
     "data": {
      "text/plain": [
       "torch.Tensor"
      ]
     },
     "execution_count": 287,
     "metadata": {
      "tags": []
     },
     "output_type": "execute_result"
    }
   ],
   "source": [
    "type(input)"
   ]
  },
  {
   "cell_type": "code",
   "execution_count": 0,
   "metadata": {
    "colab": {
     "base_uri": "https://localhost:8080/",
     "height": 422
    },
    "colab_type": "code",
    "id": "gREboHiUpDTH",
    "outputId": "3cdb17da-5c3c-4736-d349-891fe01d20f2"
   },
   "outputs": [
    {
     "data": {
      "text/html": [
       "<div>\n",
       "<style scoped>\n",
       "    .dataframe tbody tr th:only-of-type {\n",
       "        vertical-align: middle;\n",
       "    }\n",
       "\n",
       "    .dataframe tbody tr th {\n",
       "        vertical-align: top;\n",
       "    }\n",
       "\n",
       "    .dataframe thead th {\n",
       "        text-align: right;\n",
       "    }\n",
       "</style>\n",
       "<table border=\"1\" class=\"dataframe\">\n",
       "  <thead>\n",
       "    <tr style=\"text-align: right;\">\n",
       "      <th></th>\n",
       "      <th>has_media</th>\n",
       "      <th>likes</th>\n",
       "      <th>replies</th>\n",
       "      <th>followers</th>\n",
       "      <th>total_likes</th>\n",
       "      <th>num_tweets</th>\n",
       "      <th>time_Evening</th>\n",
       "      <th>time_Morning</th>\n",
       "      <th>time_Night</th>\n",
       "      <th>time_Noon</th>\n",
       "      <th>Negative</th>\n",
       "      <th>Neutral</th>\n",
       "      <th>Positive</th>\n",
       "    </tr>\n",
       "  </thead>\n",
       "  <tbody>\n",
       "    <tr>\n",
       "      <th>0</th>\n",
       "      <td>0</td>\n",
       "      <td>0.000113</td>\n",
       "      <td>0.001535</td>\n",
       "      <td>0.000043</td>\n",
       "      <td>0.000794</td>\n",
       "      <td>0.000710</td>\n",
       "      <td>1</td>\n",
       "      <td>0</td>\n",
       "      <td>0</td>\n",
       "      <td>0</td>\n",
       "      <td>0</td>\n",
       "      <td>0</td>\n",
       "      <td>1</td>\n",
       "    </tr>\n",
       "    <tr>\n",
       "      <th>1</th>\n",
       "      <td>0</td>\n",
       "      <td>0.000232</td>\n",
       "      <td>0.000051</td>\n",
       "      <td>0.000949</td>\n",
       "      <td>0.014190</td>\n",
       "      <td>0.015874</td>\n",
       "      <td>1</td>\n",
       "      <td>0</td>\n",
       "      <td>0</td>\n",
       "      <td>0</td>\n",
       "      <td>1</td>\n",
       "      <td>0</td>\n",
       "      <td>0</td>\n",
       "    </tr>\n",
       "    <tr>\n",
       "      <th>2</th>\n",
       "      <td>1</td>\n",
       "      <td>0.004158</td>\n",
       "      <td>0.005679</td>\n",
       "      <td>0.000838</td>\n",
       "      <td>0.011551</td>\n",
       "      <td>0.001267</td>\n",
       "      <td>1</td>\n",
       "      <td>0</td>\n",
       "      <td>0</td>\n",
       "      <td>0</td>\n",
       "      <td>0</td>\n",
       "      <td>0</td>\n",
       "      <td>1</td>\n",
       "    </tr>\n",
       "    <tr>\n",
       "      <th>3</th>\n",
       "      <td>0</td>\n",
       "      <td>0.011065</td>\n",
       "      <td>0.000819</td>\n",
       "      <td>0.065679</td>\n",
       "      <td>0.007383</td>\n",
       "      <td>0.009095</td>\n",
       "      <td>1</td>\n",
       "      <td>0</td>\n",
       "      <td>0</td>\n",
       "      <td>0</td>\n",
       "      <td>0</td>\n",
       "      <td>1</td>\n",
       "      <td>0</td>\n",
       "    </tr>\n",
       "    <tr>\n",
       "      <th>4</th>\n",
       "      <td>0</td>\n",
       "      <td>0.003841</td>\n",
       "      <td>0.000716</td>\n",
       "      <td>0.065679</td>\n",
       "      <td>0.007383</td>\n",
       "      <td>0.009095</td>\n",
       "      <td>1</td>\n",
       "      <td>0</td>\n",
       "      <td>0</td>\n",
       "      <td>0</td>\n",
       "      <td>0</td>\n",
       "      <td>0</td>\n",
       "      <td>1</td>\n",
       "    </tr>\n",
       "    <tr>\n",
       "      <th>...</th>\n",
       "      <td>...</td>\n",
       "      <td>...</td>\n",
       "      <td>...</td>\n",
       "      <td>...</td>\n",
       "      <td>...</td>\n",
       "      <td>...</td>\n",
       "      <td>...</td>\n",
       "      <td>...</td>\n",
       "      <td>...</td>\n",
       "      <td>...</td>\n",
       "      <td>...</td>\n",
       "      <td>...</td>\n",
       "      <td>...</td>\n",
       "    </tr>\n",
       "    <tr>\n",
       "      <th>7672</th>\n",
       "      <td>0</td>\n",
       "      <td>0.001139</td>\n",
       "      <td>0.000716</td>\n",
       "      <td>0.001673</td>\n",
       "      <td>0.011891</td>\n",
       "      <td>0.008487</td>\n",
       "      <td>1</td>\n",
       "      <td>0</td>\n",
       "      <td>0</td>\n",
       "      <td>0</td>\n",
       "      <td>1</td>\n",
       "      <td>0</td>\n",
       "      <td>0</td>\n",
       "    </tr>\n",
       "    <tr>\n",
       "      <th>7673</th>\n",
       "      <td>0</td>\n",
       "      <td>0.001338</td>\n",
       "      <td>0.000358</td>\n",
       "      <td>0.000234</td>\n",
       "      <td>0.007163</td>\n",
       "      <td>0.000520</td>\n",
       "      <td>1</td>\n",
       "      <td>0</td>\n",
       "      <td>0</td>\n",
       "      <td>0</td>\n",
       "      <td>0</td>\n",
       "      <td>0</td>\n",
       "      <td>1</td>\n",
       "    </tr>\n",
       "    <tr>\n",
       "      <th>7674</th>\n",
       "      <td>1</td>\n",
       "      <td>0.000291</td>\n",
       "      <td>0.000256</td>\n",
       "      <td>0.014180</td>\n",
       "      <td>0.001948</td>\n",
       "      <td>0.087329</td>\n",
       "      <td>1</td>\n",
       "      <td>0</td>\n",
       "      <td>0</td>\n",
       "      <td>0</td>\n",
       "      <td>0</td>\n",
       "      <td>1</td>\n",
       "      <td>0</td>\n",
       "    </tr>\n",
       "    <tr>\n",
       "      <th>7675</th>\n",
       "      <td>0</td>\n",
       "      <td>0.000742</td>\n",
       "      <td>0.000102</td>\n",
       "      <td>0.000013</td>\n",
       "      <td>0.017933</td>\n",
       "      <td>0.041054</td>\n",
       "      <td>1</td>\n",
       "      <td>0</td>\n",
       "      <td>0</td>\n",
       "      <td>0</td>\n",
       "      <td>0</td>\n",
       "      <td>1</td>\n",
       "      <td>0</td>\n",
       "    </tr>\n",
       "    <tr>\n",
       "      <th>7676</th>\n",
       "      <td>0</td>\n",
       "      <td>0.000271</td>\n",
       "      <td>0.000102</td>\n",
       "      <td>0.000675</td>\n",
       "      <td>0.001252</td>\n",
       "      <td>0.093515</td>\n",
       "      <td>1</td>\n",
       "      <td>0</td>\n",
       "      <td>0</td>\n",
       "      <td>0</td>\n",
       "      <td>0</td>\n",
       "      <td>0</td>\n",
       "      <td>1</td>\n",
       "    </tr>\n",
       "  </tbody>\n",
       "</table>\n",
       "<p>7677 rows × 13 columns</p>\n",
       "</div>"
      ],
      "text/plain": [
       "      has_media     likes   replies  ...  Negative  Neutral  Positive\n",
       "0             0  0.000113  0.001535  ...         0        0         1\n",
       "1             0  0.000232  0.000051  ...         1        0         0\n",
       "2             1  0.004158  0.005679  ...         0        0         1\n",
       "3             0  0.011065  0.000819  ...         0        1         0\n",
       "4             0  0.003841  0.000716  ...         0        0         1\n",
       "...         ...       ...       ...  ...       ...      ...       ...\n",
       "7672          0  0.001139  0.000716  ...         1        0         0\n",
       "7673          0  0.001338  0.000358  ...         0        0         1\n",
       "7674          1  0.000291  0.000256  ...         0        1         0\n",
       "7675          0  0.000742  0.000102  ...         0        1         0\n",
       "7676          0  0.000271  0.000102  ...         0        0         1\n",
       "\n",
       "[7677 rows x 13 columns]"
      ]
     },
     "execution_count": 294,
     "metadata": {
      "tags": []
     },
     "output_type": "execute_result"
    }
   ],
   "source": [
    "X"
   ]
  },
  {
   "cell_type": "code",
   "execution_count": 0,
   "metadata": {
    "colab": {},
    "colab_type": "code",
    "id": "WlIs0NIRyzT1"
   },
   "outputs": [],
   "source": [
    "from sklearn import svm\n",
    "from sklearn import metrics"
   ]
  },
  {
   "cell_type": "code",
   "execution_count": 0,
   "metadata": {
    "colab": {},
    "colab_type": "code",
    "id": "nhPz8CNy0ZDU"
   },
   "outputs": [],
   "source": [
    "clf = svm.SVC(kernel='linear')"
   ]
  },
  {
   "cell_type": "code",
   "execution_count": 0,
   "metadata": {
    "colab": {
     "base_uri": "https://localhost:8080/",
     "height": 84
    },
    "colab_type": "code",
    "id": "gCgUsM4M0d_7",
    "outputId": "cea15628-8af5-4965-ff13-c69a767a6187"
   },
   "outputs": [
    {
     "data": {
      "text/plain": [
       "SVC(C=1.0, break_ties=False, cache_size=200, class_weight=None, coef0=0.0,\n",
       "    decision_function_shape='ovr', degree=3, gamma='scale', kernel='linear',\n",
       "    max_iter=-1, probability=False, random_state=None, shrinking=True,\n",
       "    tol=0.001, verbose=False)"
      ]
     },
     "execution_count": 302,
     "metadata": {
      "tags": []
     },
     "output_type": "execute_result"
    }
   ],
   "source": [
    "clf.fit(X_train, Y_train.values.ravel())"
   ]
  },
  {
   "cell_type": "code",
   "execution_count": 0,
   "metadata": {
    "colab": {},
    "colab_type": "code",
    "id": "gNXPI_cX0sDj"
   },
   "outputs": [],
   "source": [
    "y_pred = clf.predict(X_val)"
   ]
  },
  {
   "cell_type": "code",
   "execution_count": 0,
   "metadata": {
    "colab": {
     "base_uri": "https://localhost:8080/",
     "height": 34
    },
    "colab_type": "code",
    "id": "x5BhGZ5F1AuB",
    "outputId": "7b8d6461-6365-4df2-9d09-9e5f7dce2921"
   },
   "outputs": [
    {
     "name": "stdout",
     "output_type": "stream",
     "text": [
      "Accuracy: 0.9822916666666667\n"
     ]
    }
   ],
   "source": [
    "print(\"Accuracy:\",metrics.accuracy_score(Y_val, y_pred))"
   ]
  },
  {
   "cell_type": "code",
   "execution_count": 0,
   "metadata": {
    "colab": {},
    "colab_type": "code",
    "id": "TzzyKRG1235i"
   },
   "outputs": [],
   "source": [
    "result=metrics.confusion_matrix(Y_val, y_pred)"
   ]
  },
  {
   "cell_type": "code",
   "execution_count": 0,
   "metadata": {
    "colab": {
     "base_uri": "https://localhost:8080/",
     "height": 50
    },
    "colab_type": "code",
    "id": "oMkaIpOQ3nEp",
    "outputId": "dd7f4248-863a-4314-d71b-377b78209924"
   },
   "outputs": [
    {
     "name": "stdout",
     "output_type": "stream",
     "text": [
      "[[1886    0]\n",
      " [  34    0]]\n"
     ]
    }
   ],
   "source": [
    "#Confusion matrix, SVM\n",
    "print(result)"
   ]
  },
  {
   "cell_type": "code",
   "execution_count": 0,
   "metadata": {
    "colab": {},
    "colab_type": "code",
    "id": "HwbfS1GG3oeI"
   },
   "outputs": [],
   "source": [
    "from sklearn.tree import DecisionTreeClassifier"
   ]
  },
  {
   "cell_type": "code",
   "execution_count": 0,
   "metadata": {
    "colab": {},
    "colab_type": "code",
    "id": "067odOx1irbf"
   },
   "outputs": [],
   "source": [
    "# Create Decision Tree classifer object\n",
    "clf = DecisionTreeClassifier()\n",
    "\n",
    "# Train Decision Tree Classifer\n",
    "clf = clf.fit(X_train,Y_train)"
   ]
  },
  {
   "cell_type": "code",
   "execution_count": 0,
   "metadata": {
    "colab": {},
    "colab_type": "code",
    "id": "gwWDrT3Liu2p"
   },
   "outputs": [],
   "source": [
    "y_pred = clf.predict(X_val)"
   ]
  },
  {
   "cell_type": "code",
   "execution_count": 0,
   "metadata": {
    "colab": {
     "base_uri": "https://localhost:8080/",
     "height": 34
    },
    "colab_type": "code",
    "id": "8eMXkW_si0aN",
    "outputId": "ff3c40bb-7057-42ac-e9b1-a355209924ad"
   },
   "outputs": [
    {
     "name": "stdout",
     "output_type": "stream",
     "text": [
      "Accuracy: 0.9817708333333334\n"
     ]
    }
   ],
   "source": [
    "print(\"Accuracy:\",metrics.accuracy_score(Y_val, y_pred))"
   ]
  },
  {
   "cell_type": "code",
   "execution_count": 0,
   "metadata": {
    "colab": {},
    "colab_type": "code",
    "id": "Bz-PyQlti5KX"
   },
   "outputs": [],
   "source": [
    "result=metrics.confusion_matrix(Y_val, y_pred)"
   ]
  },
  {
   "cell_type": "code",
   "execution_count": 0,
   "metadata": {
    "colab": {
     "base_uri": "https://localhost:8080/",
     "height": 50
    },
    "colab_type": "code",
    "id": "QvqyxLvAjGKy",
    "outputId": "025e7549-dbb7-4f82-b305-94fd04a7acac"
   },
   "outputs": [
    {
     "name": "stdout",
     "output_type": "stream",
     "text": [
      "[[1871   15]\n",
      " [  20   14]]\n"
     ]
    }
   ],
   "source": [
    "#Confusion matrix, Descision tree\n",
    "print(result)"
   ]
  },
  {
   "cell_type": "code",
   "execution_count": 0,
   "metadata": {
    "colab": {
     "base_uri": "https://localhost:8080/",
     "height": 402
    },
    "colab_type": "code",
    "id": "uM0kx_q70MCa",
    "outputId": "9101ad7d-dd0e-4389-9bac-ad083781a571"
   },
   "outputs": [
    {
     "data": {
      "text/html": [
       "<div>\n",
       "<style scoped>\n",
       "    .dataframe tbody tr th:only-of-type {\n",
       "        vertical-align: middle;\n",
       "    }\n",
       "\n",
       "    .dataframe tbody tr th {\n",
       "        vertical-align: top;\n",
       "    }\n",
       "\n",
       "    .dataframe thead th {\n",
       "        text-align: right;\n",
       "    }\n",
       "</style>\n",
       "<table border=\"1\" class=\"dataframe\">\n",
       "  <thead>\n",
       "    <tr style=\"text-align: right;\">\n",
       "      <th></th>\n",
       "      <th>has_media</th>\n",
       "      <th>likes</th>\n",
       "      <th>replies</th>\n",
       "      <th>followers</th>\n",
       "      <th>total_likes</th>\n",
       "      <th>num_tweets</th>\n",
       "      <th>time_Evening</th>\n",
       "      <th>time_Morning</th>\n",
       "      <th>time_Night</th>\n",
       "      <th>time_Noon</th>\n",
       "      <th>Negative</th>\n",
       "      <th>Neutral</th>\n",
       "      <th>Positive</th>\n",
       "    </tr>\n",
       "  </thead>\n",
       "  <tbody>\n",
       "    <tr>\n",
       "      <th>3230</th>\n",
       "      <td>1</td>\n",
       "      <td>0.001384</td>\n",
       "      <td>0.000921</td>\n",
       "      <td>3.403752e-04</td>\n",
       "      <td>0.006242</td>\n",
       "      <td>0.002083</td>\n",
       "      <td>0</td>\n",
       "      <td>0</td>\n",
       "      <td>0</td>\n",
       "      <td>1</td>\n",
       "      <td>0</td>\n",
       "      <td>0</td>\n",
       "      <td>1</td>\n",
       "    </tr>\n",
       "    <tr>\n",
       "      <th>671</th>\n",
       "      <td>1</td>\n",
       "      <td>0.000947</td>\n",
       "      <td>0.000409</td>\n",
       "      <td>1.029551e-04</td>\n",
       "      <td>0.000038</td>\n",
       "      <td>0.000222</td>\n",
       "      <td>0</td>\n",
       "      <td>0</td>\n",
       "      <td>0</td>\n",
       "      <td>1</td>\n",
       "      <td>0</td>\n",
       "      <td>1</td>\n",
       "      <td>0</td>\n",
       "    </tr>\n",
       "    <tr>\n",
       "      <th>81</th>\n",
       "      <td>0</td>\n",
       "      <td>0.001920</td>\n",
       "      <td>0.000307</td>\n",
       "      <td>2.472173e-05</td>\n",
       "      <td>0.040233</td>\n",
       "      <td>0.028844</td>\n",
       "      <td>0</td>\n",
       "      <td>1</td>\n",
       "      <td>0</td>\n",
       "      <td>0</td>\n",
       "      <td>0</td>\n",
       "      <td>0</td>\n",
       "      <td>1</td>\n",
       "    </tr>\n",
       "    <tr>\n",
       "      <th>2672</th>\n",
       "      <td>0</td>\n",
       "      <td>0.004933</td>\n",
       "      <td>0.003019</td>\n",
       "      <td>1.079666e-02</td>\n",
       "      <td>0.019766</td>\n",
       "      <td>0.012469</td>\n",
       "      <td>0</td>\n",
       "      <td>0</td>\n",
       "      <td>0</td>\n",
       "      <td>1</td>\n",
       "      <td>0</td>\n",
       "      <td>0</td>\n",
       "      <td>1</td>\n",
       "    </tr>\n",
       "    <tr>\n",
       "      <th>3947</th>\n",
       "      <td>1</td>\n",
       "      <td>0.000781</td>\n",
       "      <td>0.000051</td>\n",
       "      <td>4.092205e-07</td>\n",
       "      <td>0.002256</td>\n",
       "      <td>0.000201</td>\n",
       "      <td>0</td>\n",
       "      <td>0</td>\n",
       "      <td>0</td>\n",
       "      <td>1</td>\n",
       "      <td>0</td>\n",
       "      <td>0</td>\n",
       "      <td>1</td>\n",
       "    </tr>\n",
       "    <tr>\n",
       "      <th>...</th>\n",
       "      <td>...</td>\n",
       "      <td>...</td>\n",
       "      <td>...</td>\n",
       "      <td>...</td>\n",
       "      <td>...</td>\n",
       "      <td>...</td>\n",
       "      <td>...</td>\n",
       "      <td>...</td>\n",
       "      <td>...</td>\n",
       "      <td>...</td>\n",
       "      <td>...</td>\n",
       "      <td>...</td>\n",
       "      <td>...</td>\n",
       "    </tr>\n",
       "    <tr>\n",
       "      <th>3261</th>\n",
       "      <td>0</td>\n",
       "      <td>0.000417</td>\n",
       "      <td>0.000409</td>\n",
       "      <td>5.252345e-03</td>\n",
       "      <td>0.000943</td>\n",
       "      <td>0.188120</td>\n",
       "      <td>0</td>\n",
       "      <td>0</td>\n",
       "      <td>1</td>\n",
       "      <td>0</td>\n",
       "      <td>0</td>\n",
       "      <td>1</td>\n",
       "      <td>0</td>\n",
       "    </tr>\n",
       "    <tr>\n",
       "      <th>1810</th>\n",
       "      <td>0</td>\n",
       "      <td>0.000576</td>\n",
       "      <td>0.000000</td>\n",
       "      <td>2.213546e-03</td>\n",
       "      <td>0.045237</td>\n",
       "      <td>0.017558</td>\n",
       "      <td>0</td>\n",
       "      <td>1</td>\n",
       "      <td>0</td>\n",
       "      <td>0</td>\n",
       "      <td>0</td>\n",
       "      <td>0</td>\n",
       "      <td>1</td>\n",
       "    </tr>\n",
       "    <tr>\n",
       "      <th>2220</th>\n",
       "      <td>0</td>\n",
       "      <td>0.004476</td>\n",
       "      <td>0.002609</td>\n",
       "      <td>3.167463e-03</td>\n",
       "      <td>0.000067</td>\n",
       "      <td>0.001364</td>\n",
       "      <td>0</td>\n",
       "      <td>1</td>\n",
       "      <td>0</td>\n",
       "      <td>0</td>\n",
       "      <td>0</td>\n",
       "      <td>1</td>\n",
       "      <td>0</td>\n",
       "    </tr>\n",
       "    <tr>\n",
       "      <th>4377</th>\n",
       "      <td>0</td>\n",
       "      <td>0.000199</td>\n",
       "      <td>0.000102</td>\n",
       "      <td>2.840833e-03</td>\n",
       "      <td>0.000748</td>\n",
       "      <td>0.038832</td>\n",
       "      <td>0</td>\n",
       "      <td>0</td>\n",
       "      <td>0</td>\n",
       "      <td>1</td>\n",
       "      <td>0</td>\n",
       "      <td>1</td>\n",
       "      <td>0</td>\n",
       "    </tr>\n",
       "    <tr>\n",
       "      <th>5201</th>\n",
       "      <td>1</td>\n",
       "      <td>0.005059</td>\n",
       "      <td>0.001637</td>\n",
       "      <td>9.053161e-03</td>\n",
       "      <td>0.070030</td>\n",
       "      <td>0.015109</td>\n",
       "      <td>0</td>\n",
       "      <td>1</td>\n",
       "      <td>0</td>\n",
       "      <td>0</td>\n",
       "      <td>0</td>\n",
       "      <td>1</td>\n",
       "      <td>0</td>\n",
       "    </tr>\n",
       "  </tbody>\n",
       "</table>\n",
       "<p>5757 rows × 13 columns</p>\n",
       "</div>"
      ],
      "text/plain": [
       "      has_media     likes   replies  ...  Negative  Neutral  Positive\n",
       "3230          1  0.001384  0.000921  ...         0        0         1\n",
       "671           1  0.000947  0.000409  ...         0        1         0\n",
       "81            0  0.001920  0.000307  ...         0        0         1\n",
       "2672          0  0.004933  0.003019  ...         0        0         1\n",
       "3947          1  0.000781  0.000051  ...         0        0         1\n",
       "...         ...       ...       ...  ...       ...      ...       ...\n",
       "3261          0  0.000417  0.000409  ...         0        1         0\n",
       "1810          0  0.000576  0.000000  ...         0        0         1\n",
       "2220          0  0.004476  0.002609  ...         0        1         0\n",
       "4377          0  0.000199  0.000102  ...         0        1         0\n",
       "5201          1  0.005059  0.001637  ...         0        1         0\n",
       "\n",
       "[5757 rows x 13 columns]"
      ]
     },
     "execution_count": 87,
     "metadata": {
      "tags": []
     },
     "output_type": "execute_result"
    }
   ],
   "source": [
    "X_train"
   ]
  },
  {
   "cell_type": "code",
   "execution_count": 0,
   "metadata": {
    "colab": {
     "base_uri": "https://localhost:8080/",
     "height": 402
    },
    "colab_type": "code",
    "id": "bKB5fNot0R0b",
    "outputId": "db05522f-5d1b-432e-bf63-f7854a26748d"
   },
   "outputs": [
    {
     "data": {
      "text/html": [
       "<div>\n",
       "<style scoped>\n",
       "    .dataframe tbody tr th:only-of-type {\n",
       "        vertical-align: middle;\n",
       "    }\n",
       "\n",
       "    .dataframe tbody tr th {\n",
       "        vertical-align: top;\n",
       "    }\n",
       "\n",
       "    .dataframe thead th {\n",
       "        text-align: right;\n",
       "    }\n",
       "</style>\n",
       "<table border=\"1\" class=\"dataframe\">\n",
       "  <thead>\n",
       "    <tr style=\"text-align: right;\">\n",
       "      <th></th>\n",
       "      <th>viral or not</th>\n",
       "    </tr>\n",
       "  </thead>\n",
       "  <tbody>\n",
       "    <tr>\n",
       "      <th>3230</th>\n",
       "      <td>0</td>\n",
       "    </tr>\n",
       "    <tr>\n",
       "      <th>671</th>\n",
       "      <td>0</td>\n",
       "    </tr>\n",
       "    <tr>\n",
       "      <th>81</th>\n",
       "      <td>0</td>\n",
       "    </tr>\n",
       "    <tr>\n",
       "      <th>2672</th>\n",
       "      <td>0</td>\n",
       "    </tr>\n",
       "    <tr>\n",
       "      <th>3947</th>\n",
       "      <td>0</td>\n",
       "    </tr>\n",
       "    <tr>\n",
       "      <th>...</th>\n",
       "      <td>...</td>\n",
       "    </tr>\n",
       "    <tr>\n",
       "      <th>3261</th>\n",
       "      <td>0</td>\n",
       "    </tr>\n",
       "    <tr>\n",
       "      <th>1810</th>\n",
       "      <td>0</td>\n",
       "    </tr>\n",
       "    <tr>\n",
       "      <th>2220</th>\n",
       "      <td>0</td>\n",
       "    </tr>\n",
       "    <tr>\n",
       "      <th>4377</th>\n",
       "      <td>0</td>\n",
       "    </tr>\n",
       "    <tr>\n",
       "      <th>5201</th>\n",
       "      <td>0</td>\n",
       "    </tr>\n",
       "  </tbody>\n",
       "</table>\n",
       "<p>5757 rows × 1 columns</p>\n",
       "</div>"
      ],
      "text/plain": [
       "      viral or not\n",
       "3230             0\n",
       "671              0\n",
       "81               0\n",
       "2672             0\n",
       "3947             0\n",
       "...            ...\n",
       "3261             0\n",
       "1810             0\n",
       "2220             0\n",
       "4377             0\n",
       "5201             0\n",
       "\n",
       "[5757 rows x 1 columns]"
      ]
     },
     "execution_count": 88,
     "metadata": {
      "tags": []
     },
     "output_type": "execute_result"
    }
   ],
   "source": [
    "Y_train"
   ]
  },
  {
   "cell_type": "code",
   "execution_count": 0,
   "metadata": {
    "colab": {
     "base_uri": "https://localhost:8080/",
     "height": 34
    },
    "colab_type": "code",
    "id": "aoWQZ_TvjHqT",
    "outputId": "14cc8625-7b5b-4195-c948-26737493997c"
   },
   "outputs": [
    {
     "name": "stderr",
     "output_type": "stream",
     "text": [
      "Using TensorFlow backend.\n"
     ]
    }
   ],
   "source": [
    "from keras.models import Sequential\n",
    "from keras.layers import Dense"
   ]
  },
  {
   "cell_type": "code",
   "execution_count": 0,
   "metadata": {
    "colab": {},
    "colab_type": "code",
    "id": "5F8u6kCBwsUt"
   },
   "outputs": [],
   "source": [
    "model = Sequential()\n",
    "model.add(Dense(15, input_dim=13, activation='relu'))\n",
    "model.add(Dense(15, activation='relu'))\n",
    "model.add(Dense(10, activation='relu'))\n",
    "model.add(Dense(1, activation='sigmoid'))\n"
   ]
  },
  {
   "cell_type": "code",
   "execution_count": 0,
   "metadata": {
    "colab": {},
    "colab_type": "code",
    "id": "pxN3p-Nl0mW1"
   },
   "outputs": [],
   "source": [
    "model.compile(loss='binary_crossentropy', optimizer='adam', metrics=['accuracy'])"
   ]
  },
  {
   "cell_type": "code",
   "execution_count": 0,
   "metadata": {
    "colab": {
     "base_uri": "https://localhost:8080/",
     "height": 1000
    },
    "colab_type": "code",
    "id": "nKMCF2Ay0o6n",
    "outputId": "eaa076fe-10b0-47eb-b283-47617015c061"
   },
   "outputs": [
    {
     "name": "stdout",
     "output_type": "stream",
     "text": [
      "Epoch 1/100\n",
      "5757/5757 [==============================] - 1s 205us/step - loss: 0.1289 - accuracy: 0.9823\n",
      "Epoch 2/100\n",
      "5757/5757 [==============================] - 1s 122us/step - loss: 0.0878 - accuracy: 0.9823\n",
      "Epoch 3/100\n",
      "5757/5757 [==============================] - 1s 124us/step - loss: 0.0856 - accuracy: 0.9823\n",
      "Epoch 4/100\n",
      "5757/5757 [==============================] - 1s 131us/step - loss: 0.0838 - accuracy: 0.9823\n",
      "Epoch 5/100\n",
      "5757/5757 [==============================] - 1s 118us/step - loss: 0.0815 - accuracy: 0.9823\n",
      "Epoch 6/100\n",
      "5757/5757 [==============================] - 1s 125us/step - loss: 0.0797 - accuracy: 0.9823\n",
      "Epoch 7/100\n",
      "5757/5757 [==============================] - 1s 120us/step - loss: 0.0773 - accuracy: 0.9823\n",
      "Epoch 8/100\n",
      "5757/5757 [==============================] - 1s 117us/step - loss: 0.0749 - accuracy: 0.9823\n",
      "Epoch 9/100\n",
      "5757/5757 [==============================] - 1s 118us/step - loss: 0.0714 - accuracy: 0.9826\n",
      "Epoch 10/100\n",
      "5757/5757 [==============================] - 1s 113us/step - loss: 0.0671 - accuracy: 0.9832\n",
      "Epoch 11/100\n",
      "5757/5757 [==============================] - 1s 113us/step - loss: 0.0619 - accuracy: 0.9838\n",
      "Epoch 12/100\n",
      "5757/5757 [==============================] - 1s 110us/step - loss: 0.0559 - accuracy: 0.9851\n",
      "Epoch 13/100\n",
      "5757/5757 [==============================] - 1s 122us/step - loss: 0.0493 - accuracy: 0.9865\n",
      "Epoch 14/100\n",
      "5757/5757 [==============================] - 1s 129us/step - loss: 0.0443 - accuracy: 0.9884\n",
      "Epoch 15/100\n",
      "5757/5757 [==============================] - 1s 114us/step - loss: 0.0392 - accuracy: 0.9898\n",
      "Epoch 16/100\n",
      "5757/5757 [==============================] - 1s 112us/step - loss: 0.0376 - accuracy: 0.9899\n",
      "Epoch 17/100\n",
      "5757/5757 [==============================] - 1s 114us/step - loss: 0.0369 - accuracy: 0.9901\n",
      "Epoch 18/100\n",
      "5757/5757 [==============================] - 1s 113us/step - loss: 0.0346 - accuracy: 0.9898\n",
      "Epoch 19/100\n",
      "5757/5757 [==============================] - 1s 114us/step - loss: 0.0333 - accuracy: 0.9911\n",
      "Epoch 20/100\n",
      "5757/5757 [==============================] - 1s 113us/step - loss: 0.0331 - accuracy: 0.9906\n",
      "Epoch 21/100\n",
      "5757/5757 [==============================] - 1s 113us/step - loss: 0.0318 - accuracy: 0.9906\n",
      "Epoch 22/100\n",
      "5757/5757 [==============================] - 1s 112us/step - loss: 0.0321 - accuracy: 0.9913\n",
      "Epoch 23/100\n",
      "5757/5757 [==============================] - 1s 120us/step - loss: 0.0319 - accuracy: 0.9906\n",
      "Epoch 24/100\n",
      "5757/5757 [==============================] - 1s 112us/step - loss: 0.0304 - accuracy: 0.9915\n",
      "Epoch 25/100\n",
      "5757/5757 [==============================] - 1s 113us/step - loss: 0.0311 - accuracy: 0.9910\n",
      "Epoch 26/100\n",
      "5757/5757 [==============================] - 1s 112us/step - loss: 0.0309 - accuracy: 0.9911\n",
      "Epoch 27/100\n",
      "5757/5757 [==============================] - 1s 112us/step - loss: 0.0307 - accuracy: 0.9917\n",
      "Epoch 28/100\n",
      "5757/5757 [==============================] - 1s 111us/step - loss: 0.0303 - accuracy: 0.9918\n",
      "Epoch 29/100\n",
      "5757/5757 [==============================] - 1s 139us/step - loss: 0.0292 - accuracy: 0.9918\n",
      "Epoch 30/100\n",
      "5757/5757 [==============================] - 1s 126us/step - loss: 0.0295 - accuracy: 0.9911\n",
      "Epoch 31/100\n",
      "5757/5757 [==============================] - 1s 118us/step - loss: 0.0294 - accuracy: 0.9915\n",
      "Epoch 32/100\n",
      "5757/5757 [==============================] - 1s 115us/step - loss: 0.0290 - accuracy: 0.9922\n",
      "Epoch 33/100\n",
      "5757/5757 [==============================] - 1s 118us/step - loss: 0.0293 - accuracy: 0.9924\n",
      "Epoch 34/100\n",
      "5757/5757 [==============================] - 1s 112us/step - loss: 0.0280 - accuracy: 0.9920\n",
      "Epoch 35/100\n",
      "5757/5757 [==============================] - 1s 112us/step - loss: 0.0294 - accuracy: 0.9917\n",
      "Epoch 36/100\n",
      "5757/5757 [==============================] - 1s 119us/step - loss: 0.0288 - accuracy: 0.9915\n",
      "Epoch 37/100\n",
      "5757/5757 [==============================] - 1s 112us/step - loss: 0.0277 - accuracy: 0.9924\n",
      "Epoch 38/100\n",
      "5757/5757 [==============================] - 1s 111us/step - loss: 0.0278 - accuracy: 0.9924\n",
      "Epoch 39/100\n",
      "5757/5757 [==============================] - 1s 119us/step - loss: 0.0279 - accuracy: 0.9918\n",
      "Epoch 40/100\n",
      "5757/5757 [==============================] - 1s 121us/step - loss: 0.0279 - accuracy: 0.9922\n",
      "Epoch 41/100\n",
      "5757/5757 [==============================] - 1s 119us/step - loss: 0.0280 - accuracy: 0.9925\n",
      "Epoch 42/100\n",
      "5757/5757 [==============================] - 1s 114us/step - loss: 0.0275 - accuracy: 0.9918\n",
      "Epoch 43/100\n",
      "5757/5757 [==============================] - 1s 115us/step - loss: 0.0275 - accuracy: 0.9932\n",
      "Epoch 44/100\n",
      "5757/5757 [==============================] - 1s 117us/step - loss: 0.0274 - accuracy: 0.9925\n",
      "Epoch 45/100\n",
      "5757/5757 [==============================] - 1s 114us/step - loss: 0.0282 - accuracy: 0.9922\n",
      "Epoch 46/100\n",
      "5757/5757 [==============================] - 1s 114us/step - loss: 0.0268 - accuracy: 0.9920\n",
      "Epoch 47/100\n",
      "5757/5757 [==============================] - 1s 113us/step - loss: 0.0265 - accuracy: 0.9922\n",
      "Epoch 48/100\n",
      "5757/5757 [==============================] - 1s 116us/step - loss: 0.0267 - accuracy: 0.9925\n",
      "Epoch 49/100\n",
      "5757/5757 [==============================] - 1s 114us/step - loss: 0.0274 - accuracy: 0.9918\n",
      "Epoch 50/100\n",
      "5757/5757 [==============================] - 1s 114us/step - loss: 0.0264 - accuracy: 0.9925\n",
      "Epoch 51/100\n",
      "5757/5757 [==============================] - 1s 116us/step - loss: 0.0266 - accuracy: 0.9918\n",
      "Epoch 52/100\n",
      "5757/5757 [==============================] - 1s 112us/step - loss: 0.0266 - accuracy: 0.9924\n",
      "Epoch 53/100\n",
      "5757/5757 [==============================] - 1s 130us/step - loss: 0.0269 - accuracy: 0.9922\n",
      "Epoch 54/100\n",
      "5757/5757 [==============================] - 1s 114us/step - loss: 0.0250 - accuracy: 0.9932\n",
      "Epoch 55/100\n",
      "5757/5757 [==============================] - 1s 113us/step - loss: 0.0255 - accuracy: 0.9934\n",
      "Epoch 56/100\n",
      "5757/5757 [==============================] - 1s 113us/step - loss: 0.0268 - accuracy: 0.9925\n",
      "Epoch 57/100\n",
      "5757/5757 [==============================] - 1s 114us/step - loss: 0.0260 - accuracy: 0.9924\n",
      "Epoch 58/100\n",
      "5757/5757 [==============================] - 1s 116us/step - loss: 0.0265 - accuracy: 0.9932\n",
      "Epoch 59/100\n",
      "5757/5757 [==============================] - 1s 135us/step - loss: 0.0264 - accuracy: 0.9927\n",
      "Epoch 60/100\n",
      "5757/5757 [==============================] - 1s 129us/step - loss: 0.0251 - accuracy: 0.9929\n",
      "Epoch 61/100\n",
      "5757/5757 [==============================] - 1s 114us/step - loss: 0.0254 - accuracy: 0.9924\n",
      "Epoch 62/100\n",
      "5757/5757 [==============================] - 1s 118us/step - loss: 0.0260 - accuracy: 0.9925\n",
      "Epoch 63/100\n",
      "5757/5757 [==============================] - 1s 114us/step - loss: 0.0251 - accuracy: 0.9934\n",
      "Epoch 64/100\n",
      "5757/5757 [==============================] - 1s 113us/step - loss: 0.0250 - accuracy: 0.9929\n",
      "Epoch 65/100\n",
      "5757/5757 [==============================] - 1s 112us/step - loss: 0.0255 - accuracy: 0.9925\n",
      "Epoch 66/100\n",
      "5757/5757 [==============================] - 1s 112us/step - loss: 0.0251 - accuracy: 0.9929\n",
      "Epoch 67/100\n",
      "5757/5757 [==============================] - 1s 111us/step - loss: 0.0247 - accuracy: 0.9929\n",
      "Epoch 68/100\n",
      "5757/5757 [==============================] - 1s 113us/step - loss: 0.0262 - accuracy: 0.9927\n",
      "Epoch 69/100\n",
      "5757/5757 [==============================] - 1s 119us/step - loss: 0.0244 - accuracy: 0.9932\n",
      "Epoch 70/100\n",
      "5757/5757 [==============================] - 1s 118us/step - loss: 0.0256 - accuracy: 0.9927\n",
      "Epoch 71/100\n",
      "5757/5757 [==============================] - 1s 114us/step - loss: 0.0251 - accuracy: 0.9931\n",
      "Epoch 72/100\n",
      "5757/5757 [==============================] - 1s 113us/step - loss: 0.0249 - accuracy: 0.9925\n",
      "Epoch 73/100\n",
      "5757/5757 [==============================] - 1s 117us/step - loss: 0.0255 - accuracy: 0.9927\n",
      "Epoch 74/100\n",
      "5757/5757 [==============================] - 1s 117us/step - loss: 0.0251 - accuracy: 0.9929\n",
      "Epoch 75/100\n",
      "5757/5757 [==============================] - 1s 115us/step - loss: 0.0233 - accuracy: 0.9932\n",
      "Epoch 76/100\n",
      "5757/5757 [==============================] - 1s 115us/step - loss: 0.0242 - accuracy: 0.9924\n",
      "Epoch 77/100\n",
      "5757/5757 [==============================] - 1s 119us/step - loss: 0.0248 - accuracy: 0.9934\n",
      "Epoch 78/100\n",
      "5757/5757 [==============================] - 1s 130us/step - loss: 0.0245 - accuracy: 0.9927\n",
      "Epoch 79/100\n",
      "5757/5757 [==============================] - 1s 115us/step - loss: 0.0232 - accuracy: 0.9937\n",
      "Epoch 80/100\n",
      "5757/5757 [==============================] - 1s 116us/step - loss: 0.0237 - accuracy: 0.9932\n",
      "Epoch 81/100\n",
      "5757/5757 [==============================] - 1s 113us/step - loss: 0.0225 - accuracy: 0.9932\n",
      "Epoch 82/100\n",
      "5757/5757 [==============================] - 1s 113us/step - loss: 0.0246 - accuracy: 0.9932\n",
      "Epoch 83/100\n",
      "5757/5757 [==============================] - 1s 116us/step - loss: 0.0239 - accuracy: 0.9929\n",
      "Epoch 84/100\n",
      "5757/5757 [==============================] - 1s 111us/step - loss: 0.0234 - accuracy: 0.9937\n",
      "Epoch 85/100\n",
      "5757/5757 [==============================] - 1s 118us/step - loss: 0.0233 - accuracy: 0.9937\n",
      "Epoch 86/100\n",
      "5757/5757 [==============================] - 1s 119us/step - loss: 0.0242 - accuracy: 0.9929\n",
      "Epoch 87/100\n",
      "5757/5757 [==============================] - 1s 112us/step - loss: 0.0228 - accuracy: 0.9941\n",
      "Epoch 88/100\n",
      "5757/5757 [==============================] - 1s 114us/step - loss: 0.0232 - accuracy: 0.9937\n",
      "Epoch 89/100\n",
      "5757/5757 [==============================] - 1s 115us/step - loss: 0.0227 - accuracy: 0.9937\n",
      "Epoch 90/100\n",
      "5757/5757 [==============================] - 1s 112us/step - loss: 0.0227 - accuracy: 0.9939\n",
      "Epoch 91/100\n",
      "5757/5757 [==============================] - 1s 119us/step - loss: 0.0231 - accuracy: 0.9939\n",
      "Epoch 92/100\n",
      "5757/5757 [==============================] - 1s 114us/step - loss: 0.0221 - accuracy: 0.9931\n",
      "Epoch 93/100\n",
      "5757/5757 [==============================] - 1s 114us/step - loss: 0.0228 - accuracy: 0.9931\n",
      "Epoch 94/100\n",
      "5757/5757 [==============================] - 1s 116us/step - loss: 0.0227 - accuracy: 0.9939\n",
      "Epoch 95/100\n",
      "5757/5757 [==============================] - 1s 115us/step - loss: 0.0223 - accuracy: 0.9937\n",
      "Epoch 96/100\n",
      "5757/5757 [==============================] - 1s 111us/step - loss: 0.0237 - accuracy: 0.9929\n",
      "Epoch 97/100\n",
      "5757/5757 [==============================] - 1s 115us/step - loss: 0.0215 - accuracy: 0.9941\n",
      "Epoch 98/100\n",
      "5757/5757 [==============================] - 1s 113us/step - loss: 0.0219 - accuracy: 0.9936\n",
      "Epoch 99/100\n",
      "5757/5757 [==============================] - 1s 112us/step - loss: 0.0212 - accuracy: 0.9948\n",
      "Epoch 100/100\n",
      "5757/5757 [==============================] - 1s 114us/step - loss: 0.0223 - accuracy: 0.9937\n"
     ]
    },
    {
     "data": {
      "text/plain": [
       "<keras.callbacks.callbacks.History at 0x7f75ebfa5630>"
      ]
     },
     "execution_count": 91,
     "metadata": {
      "tags": []
     },
     "output_type": "execute_result"
    }
   ],
   "source": [
    "model.fit(X_train, Y_train, epochs=100, batch_size=10)"
   ]
  },
  {
   "cell_type": "code",
   "execution_count": 0,
   "metadata": {
    "colab": {
     "base_uri": "https://localhost:8080/",
     "height": 50
    },
    "colab_type": "code",
    "id": "h046_CWb1Ltr",
    "outputId": "082057ac-d1c6-4f31-95f5-8d079d152ff9"
   },
   "outputs": [
    {
     "name": "stdout",
     "output_type": "stream",
     "text": [
      "7677/7677 [==============================] - 0s 20us/step\n",
      "Accuracy: 99.14\n"
     ]
    }
   ],
   "source": [
    "_, accuracy = model.evaluate(X, y)\n",
    "print('Accuracy: %.2f' % (accuracy*100))"
   ]
  },
  {
   "cell_type": "code",
   "execution_count": 0,
   "metadata": {
    "colab": {},
    "colab_type": "code",
    "id": "Ox7RkirH1UDO"
   },
   "outputs": [],
   "source": [
    "predictions = model.predict(X_val)"
   ]
  },
  {
   "cell_type": "code",
   "execution_count": 0,
   "metadata": {
    "colab": {
     "base_uri": "https://localhost:8080/",
     "height": 134
    },
    "colab_type": "code",
    "id": "2CG8TdVq2oCn",
    "outputId": "adaf93c0-e9d0-45cf-d2c8-9d17ed41962f"
   },
   "outputs": [
    {
     "data": {
      "text/plain": [
       "array([[6.6497787e-06],\n",
       "       [1.2459509e-06],\n",
       "       [2.7290285e-05],\n",
       "       ...,\n",
       "       [5.8022380e-02],\n",
       "       [7.8206584e-05],\n",
       "       [9.5382078e-05]], dtype=float32)"
      ]
     },
     "execution_count": 96,
     "metadata": {
      "tags": []
     },
     "output_type": "execute_result"
    }
   ],
   "source": [
    "predictions"
   ]
  },
  {
   "cell_type": "code",
   "execution_count": 0,
   "metadata": {
    "colab": {
     "base_uri": "https://localhost:8080/",
     "height": 50
    },
    "colab_type": "code",
    "id": "Y5Gj9b241eio",
    "outputId": "f1c9841d-28ad-4de6-d034-8a2529137d7c"
   },
   "outputs": [
    {
     "name": "stdout",
     "output_type": "stream",
     "text": [
      "[[1881    5]\n",
      " [  22   12]]\n"
     ]
    }
   ],
   "source": [
    "#Confusion matrix, Feed forward Neural network\n",
    "result=metrics.confusion_matrix(Y_val, predictions.round())\n",
    "print(result)"
   ]
  },
  {
   "cell_type": "markdown",
   "metadata": {
    "colab_type": "text",
    "id": "3-xYUFcJ5-qH"
   },
   "source": [
    "We can improve this accuracy by collecting more data, and by using better algorithms. "
   ]
  },
  {
   "cell_type": "markdown",
   "metadata": {},
   "source": [
    "We can also add more features like hashtags, text elements, For eg: Using hashtags related to current trend could make a tweet go viral."
   ]
  }
 ],
 "metadata": {
  "colab": {
   "collapsed_sections": [],
   "name": "Virality_check.ipynb",
   "provenance": []
  },
  "kernelspec": {
   "display_name": "Python 3",
   "language": "python",
   "name": "python3"
  },
  "language_info": {
   "codemirror_mode": {
    "name": "ipython",
    "version": 3
   },
   "file_extension": ".py",
   "mimetype": "text/x-python",
   "name": "python",
   "nbconvert_exporter": "python",
   "pygments_lexer": "ipython3",
   "version": "3.7.4"
  }
 },
 "nbformat": 4,
 "nbformat_minor": 1
}
